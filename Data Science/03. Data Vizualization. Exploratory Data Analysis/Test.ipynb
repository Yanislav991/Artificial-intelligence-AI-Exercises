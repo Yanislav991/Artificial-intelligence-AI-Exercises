{
 "cells": [
  {
   "cell_type": "code",
   "execution_count": 28,
   "id": "5ebca411",
   "metadata": {},
   "outputs": [],
   "source": [
    "import pandas as pd\n",
    "import matplotlib.pyplot as plt"
   ]
  },
  {
   "cell_type": "markdown",
   "id": "2e17bc93",
   "metadata": {},
   "source": [
    "### Test"
   ]
  },
  {
   "cell_type": "code",
   "execution_count": 30,
   "id": "0492c64c",
   "metadata": {},
   "outputs": [],
   "source": [
    "# Read the dataset\n",
    "df = pd.read_csv(\"https://raw.githubusercontent.com/vincentarelbundock/Rdatasets/master/csv/boot/nuclear.csv\")\n",
    "\n",
    "# Meta data - https://stat.ethz.ch/R-manual/R-devel/library/boot/html/nuclear.html"
   ]
  },
  {
   "cell_type": "code",
   "execution_count": 22,
   "id": "4280e09d",
   "metadata": {},
   "outputs": [
    {
     "data": {
      "text/plain": [
       "461.5603124999999"
      ]
     },
     "execution_count": 22,
     "metadata": {},
     "output_type": "execute_result"
    }
   ],
   "source": [
    "# Find mean cost\n",
    "df[\"cost\"].mean()"
   ]
  },
  {
   "cell_type": "code",
   "execution_count": 23,
   "id": "d0f0994a",
   "metadata": {},
   "outputs": [
    {
     "data": {
      "text/html": [
       "<div>\n",
       "<style scoped>\n",
       "    .dataframe tbody tr th:only-of-type {\n",
       "        vertical-align: middle;\n",
       "    }\n",
       "\n",
       "    .dataframe tbody tr th {\n",
       "        vertical-align: top;\n",
       "    }\n",
       "\n",
       "    .dataframe thead th {\n",
       "        text-align: right;\n",
       "    }\n",
       "</style>\n",
       "<table border=\"1\" class=\"dataframe\">\n",
       "  <thead>\n",
       "    <tr style=\"text-align: right;\">\n",
       "      <th></th>\n",
       "      <th>Unnamed: 0</th>\n",
       "      <th>cost</th>\n",
       "      <th>date</th>\n",
       "      <th>t1</th>\n",
       "      <th>t2</th>\n",
       "      <th>cap</th>\n",
       "      <th>pr</th>\n",
       "      <th>ne</th>\n",
       "      <th>ct</th>\n",
       "      <th>bw</th>\n",
       "      <th>cum.n</th>\n",
       "      <th>pt</th>\n",
       "    </tr>\n",
       "  </thead>\n",
       "  <tbody>\n",
       "    <tr>\n",
       "      <th>0</th>\n",
       "      <td>1</td>\n",
       "      <td>460.05</td>\n",
       "      <td>68.58</td>\n",
       "      <td>14</td>\n",
       "      <td>46</td>\n",
       "      <td>687</td>\n",
       "      <td>0</td>\n",
       "      <td>1</td>\n",
       "      <td>0</td>\n",
       "      <td>0</td>\n",
       "      <td>14</td>\n",
       "      <td>0</td>\n",
       "    </tr>\n",
       "    <tr>\n",
       "      <th>3</th>\n",
       "      <td>4</td>\n",
       "      <td>652.32</td>\n",
       "      <td>68.00</td>\n",
       "      <td>11</td>\n",
       "      <td>67</td>\n",
       "      <td>1065</td>\n",
       "      <td>0</td>\n",
       "      <td>1</td>\n",
       "      <td>1</td>\n",
       "      <td>0</td>\n",
       "      <td>12</td>\n",
       "      <td>0</td>\n",
       "    </tr>\n",
       "    <tr>\n",
       "      <th>4</th>\n",
       "      <td>5</td>\n",
       "      <td>642.23</td>\n",
       "      <td>68.00</td>\n",
       "      <td>11</td>\n",
       "      <td>78</td>\n",
       "      <td>1065</td>\n",
       "      <td>1</td>\n",
       "      <td>1</td>\n",
       "      <td>1</td>\n",
       "      <td>0</td>\n",
       "      <td>12</td>\n",
       "      <td>0</td>\n",
       "    </tr>\n",
       "    <tr>\n",
       "      <th>5</th>\n",
       "      <td>6</td>\n",
       "      <td>345.39</td>\n",
       "      <td>67.92</td>\n",
       "      <td>13</td>\n",
       "      <td>51</td>\n",
       "      <td>514</td>\n",
       "      <td>0</td>\n",
       "      <td>1</td>\n",
       "      <td>1</td>\n",
       "      <td>0</td>\n",
       "      <td>3</td>\n",
       "      <td>0</td>\n",
       "    </tr>\n",
       "    <tr>\n",
       "      <th>9</th>\n",
       "      <td>10</td>\n",
       "      <td>690.19</td>\n",
       "      <td>68.33</td>\n",
       "      <td>12</td>\n",
       "      <td>71</td>\n",
       "      <td>792</td>\n",
       "      <td>0</td>\n",
       "      <td>1</td>\n",
       "      <td>1</td>\n",
       "      <td>1</td>\n",
       "      <td>2</td>\n",
       "      <td>0</td>\n",
       "    </tr>\n",
       "    <tr>\n",
       "      <th>11</th>\n",
       "      <td>12</td>\n",
       "      <td>402.59</td>\n",
       "      <td>68.75</td>\n",
       "      <td>13</td>\n",
       "      <td>47</td>\n",
       "      <td>790</td>\n",
       "      <td>0</td>\n",
       "      <td>1</td>\n",
       "      <td>0</td>\n",
       "      <td>0</td>\n",
       "      <td>6</td>\n",
       "      <td>0</td>\n",
       "    </tr>\n",
       "    <tr>\n",
       "      <th>16</th>\n",
       "      <td>17</td>\n",
       "      <td>712.27</td>\n",
       "      <td>69.50</td>\n",
       "      <td>18</td>\n",
       "      <td>60</td>\n",
       "      <td>845</td>\n",
       "      <td>0</td>\n",
       "      <td>1</td>\n",
       "      <td>0</td>\n",
       "      <td>0</td>\n",
       "      <td>17</td>\n",
       "      <td>0</td>\n",
       "    </tr>\n",
       "    <tr>\n",
       "      <th>21</th>\n",
       "      <td>22</td>\n",
       "      <td>665.99</td>\n",
       "      <td>70.92</td>\n",
       "      <td>22</td>\n",
       "      <td>57</td>\n",
       "      <td>828</td>\n",
       "      <td>1</td>\n",
       "      <td>1</td>\n",
       "      <td>0</td>\n",
       "      <td>0</td>\n",
       "      <td>20</td>\n",
       "      <td>0</td>\n",
       "    </tr>\n",
       "  </tbody>\n",
       "</table>\n",
       "</div>"
      ],
      "text/plain": [
       "    Unnamed: 0    cost   date  t1  t2   cap  pr  ne  ct  bw  cum.n  pt\n",
       "0            1  460.05  68.58  14  46   687   0   1   0   0     14   0\n",
       "3            4  652.32  68.00  11  67  1065   0   1   1   0     12   0\n",
       "4            5  642.23  68.00  11  78  1065   1   1   1   0     12   0\n",
       "5            6  345.39  67.92  13  51   514   0   1   1   0      3   0\n",
       "9           10  690.19  68.33  12  71   792   0   1   1   1      2   0\n",
       "11          12  402.59  68.75  13  47   790   0   1   0   0      6   0\n",
       "16          17  712.27  69.50  18  60   845   0   1   0   0     17   0\n",
       "21          22  665.99  70.92  22  57   828   1   1   0   0     20   0"
      ]
     },
     "execution_count": 23,
     "metadata": {},
     "output_type": "execute_result"
    }
   ],
   "source": [
    "# Which stations are built north-east\n",
    "df[df[\"ne\"] == 1]"
   ]
  },
  {
   "cell_type": "code",
   "execution_count": 24,
   "id": "ef8af462",
   "metadata": {},
   "outputs": [],
   "source": [
    "# Sort the values\n",
    "df = df.sort_values(by=\"date\")"
   ]
  },
  {
   "cell_type": "code",
   "execution_count": 26,
   "id": "83b77325",
   "metadata": {},
   "outputs": [
    {
     "data": {
      "text/plain": [
       "[<matplotlib.lines.Line2D at 0x26a413f4ee0>]"
      ]
     },
     "execution_count": 26,
     "metadata": {},
     "output_type": "execute_result"
    },
    {
     "data": {
      "image/png": "[encoded data removed]",
      "text/plain": [
       "<Figure size 640x480 with 1 Axes>"
      ]
     },
     "metadata": {},
     "output_type": "display_data"
    }
   ],
   "source": [
    "# Plot values to see if the cost is increasing/decreasing\n",
    "plt.plot(df['date'], df['cost'])"
   ]
  },
  {
   "cell_type": "code",
   "execution_count": 29,
   "id": "397e5e59",
   "metadata": {},
   "outputs": [
    {
     "name": "stdout",
     "output_type": "stream",
     "text": [
      "1065\n"
     ]
    }
   ],
   "source": [
    "# We have a stations that are build in place of old stations. What is the power of the most powerful station? \n",
    "existing_stations = df[df['pr']==1]\n",
    "max_power = existing_stations['cap'].max()\n",
    "max_power = int(round(max_power))\n",
    "print(max_power)"
   ]
  },
  {
   "cell_type": "code",
   "execution_count": null,
   "id": "43e1413a",
   "metadata": {},
   "outputs": [],
   "source": []
  }
 ],
 "metadata": {
  "kernelspec": {
   "display_name": "Python 3 (ipykernel)",
   "language": "python",
   "name": "python3"
  },
  "language_info": {
   "codemirror_mode": {
    "name": "ipython",
    "version": 3
   },
   "file_extension": ".py",
   "mimetype": "text/x-python",
   "name": "python",
   "nbconvert_exporter": "python",
   "pygments_lexer": "ipython3",
   "version": "3.9.13"
  }
 },
 "nbformat": 4,
 "nbformat_minor": 5
}
