{
 "cells": [
  {
   "cell_type": "code",
   "execution_count": 1,
   "id": "5dbc2352",
   "metadata": {},
   "outputs": [],
   "source": [
    "import pandas as pd\n",
    "from skimage import io\n",
    "\n",
    "img = io.imread('https://lh6.googleusercontent.com/VNbON7fNheEvG9Rezo8BXTrYLk6kXGmXH5jXr4uGMeUE0wD-62n9hKc0G0fmi7B7dU7UM5WJxvbASPivMub6VID_c4eqyFJ8Or0QHYpZ8lnNiFflXsv_oWezaykwhoiCMQ=w626')"
   ]
  },
  {
   "cell_type": "code",
   "execution_count": null,
   "id": "4b23fe8a",
   "metadata": {},
   "outputs": [],
   "source": []
  }
 ],
 "metadata": {
  "kernelspec": {
   "display_name": "Python 3 (ipykernel)",
   "language": "python",
   "name": "python3"
  },
  "language_info": {
   "codemirror_mode": {
    "name": "ipython",
    "version": 3
   },
   "file_extension": ".py",
   "mimetype": "text/x-python",
   "name": "python",
   "nbconvert_exporter": "python",
   "pygments_lexer": "ipython3",
   "version": "3.9.13"
  }
 },
 "nbformat": 4,
 "nbformat_minor": 5
}
