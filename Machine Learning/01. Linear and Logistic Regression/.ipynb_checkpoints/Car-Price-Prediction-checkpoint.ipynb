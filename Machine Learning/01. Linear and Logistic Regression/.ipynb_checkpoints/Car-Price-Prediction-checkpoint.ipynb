{
 "cells": [
  {
   "cell_type": "markdown",
   "id": "d60fb68a",
   "metadata": {},
   "source": [
    "# Car Price Prediction"
   ]
  },
  {
   "cell_type": "code",
   "execution_count": 87,
   "id": "0f962e3f",
   "metadata": {},
   "outputs": [],
   "source": [
    "import pandas as pd\n",
    "import matplotlib.pyplot as plt\n",
    "from sklearn.linear_model import LinearRegression"
   ]
  },
  {
   "cell_type": "markdown",
   "id": "6933e14a",
   "metadata": {},
   "source": [
    "This project involves building a machine learning model to predict car prices using data gathered from Bulgarian car sales website. \n",
    "The project includes \n",
    "1. Data preprocessing.\n",
    "2. Exploratory Data Analysis.\n",
    "3. Feature Selection and Engineering.\n",
    "4. Model training and Evaluation.\n",
    "\n",
    "The goal is to create a reliable tool for estimating car prices."
   ]
  },
  {
   "cell_type": "markdown",
   "id": "022d33ce",
   "metadata": {},
   "source": [
    "### Load and Explore the Data"
   ]
  },
  {
   "cell_type": "code",
   "execution_count": 5,
   "id": "00180c03",
   "metadata": {},
   "outputs": [],
   "source": [
    "cars_data = pd.read_json('cars.json')"
   ]
  },
  {
   "cell_type": "code",
   "execution_count": 6,
   "id": "f8b9a9c9",
   "metadata": {},
   "outputs": [
    {
     "data": {
      "text/html": [
       "<div>\n",
       "<style scoped>\n",
       "    .dataframe tbody tr th:only-of-type {\n",
       "        vertical-align: middle;\n",
       "    }\n",
       "\n",
       "    .dataframe tbody tr th {\n",
       "        vertical-align: top;\n",
       "    }\n",
       "\n",
       "    .dataframe thead th {\n",
       "        text-align: right;\n",
       "    }\n",
       "</style>\n",
       "<table border=\"1\" class=\"dataframe\">\n",
       "  <thead>\n",
       "    <tr style=\"text-align: right;\">\n",
       "      <th></th>\n",
       "      <th>Brand</th>\n",
       "      <th>Model</th>\n",
       "      <th>Price</th>\n",
       "      <th>Type</th>\n",
       "      <th>EngineType</th>\n",
       "      <th>TransmissionType</th>\n",
       "      <th>ManufactureDate</th>\n",
       "      <th>HorsePower</th>\n",
       "      <th>Color</th>\n",
       "    </tr>\n",
       "  </thead>\n",
       "  <tbody>\n",
       "    <tr>\n",
       "      <th>0</th>\n",
       "      <td>audi</td>\n",
       "      <td>A4</td>\n",
       "      <td>26000.0</td>\n",
       "      <td>Комби</td>\n",
       "      <td>Дизел</td>\n",
       "      <td>Ръчна</td>\n",
       "      <td>2016-01-01T00:00:00</td>\n",
       "      <td>190</td>\n",
       "      <td>Сив</td>\n",
       "    </tr>\n",
       "    <tr>\n",
       "      <th>1</th>\n",
       "      <td>audi</td>\n",
       "      <td>A6</td>\n",
       "      <td>35000.0</td>\n",
       "      <td>Комби</td>\n",
       "      <td>Дизел</td>\n",
       "      <td>Автоматична</td>\n",
       "      <td>2013-01-01T00:00:00</td>\n",
       "      <td>313</td>\n",
       "      <td>Черен</td>\n",
       "    </tr>\n",
       "    <tr>\n",
       "      <th>2</th>\n",
       "      <td>audi</td>\n",
       "      <td>Q7</td>\n",
       "      <td>16000.0</td>\n",
       "      <td>Джип</td>\n",
       "      <td>Дизел</td>\n",
       "      <td>Автоматична</td>\n",
       "      <td>2010-01-01T00:00:00</td>\n",
       "      <td>280</td>\n",
       "      <td>Бежов</td>\n",
       "    </tr>\n",
       "    <tr>\n",
       "      <th>3</th>\n",
       "      <td>audi</td>\n",
       "      <td>Q7</td>\n",
       "      <td>13000.0</td>\n",
       "      <td>Джип</td>\n",
       "      <td>Дизел</td>\n",
       "      <td>Автоматична</td>\n",
       "      <td>2008-01-01T00:00:00</td>\n",
       "      <td>233</td>\n",
       "      <td>Черен</td>\n",
       "    </tr>\n",
       "    <tr>\n",
       "      <th>4</th>\n",
       "      <td>audi</td>\n",
       "      <td>A4</td>\n",
       "      <td>10000.0</td>\n",
       "      <td>Седан</td>\n",
       "      <td>Бензин</td>\n",
       "      <td>Ръчна</td>\n",
       "      <td>2001-01-01T00:00:00</td>\n",
       "      <td>220</td>\n",
       "      <td>Тъмно сив</td>\n",
       "    </tr>\n",
       "  </tbody>\n",
       "</table>\n",
       "</div>"
      ],
      "text/plain": [
       "  Brand Model    Price   Type EngineType TransmissionType  \\\n",
       "0  audi    A4  26000.0  Комби      Дизел            Ръчна   \n",
       "1  audi    A6  35000.0  Комби      Дизел      Автоматична   \n",
       "2  audi    Q7  16000.0   Джип      Дизел      Автоматична   \n",
       "3  audi    Q7  13000.0   Джип      Дизел      Автоматична   \n",
       "4  audi    A4  10000.0  Седан     Бензин            Ръчна   \n",
       "\n",
       "       ManufactureDate  HorsePower      Color  \n",
       "0  2016-01-01T00:00:00         190        Сив  \n",
       "1  2013-01-01T00:00:00         313      Черен  \n",
       "2  2010-01-01T00:00:00         280      Бежов  \n",
       "3  2008-01-01T00:00:00         233      Черен  \n",
       "4  2001-01-01T00:00:00         220  Тъмно сив  "
      ]
     },
     "execution_count": 6,
     "metadata": {},
     "output_type": "execute_result"
    }
   ],
   "source": [
    "cars_data.head()"
   ]
  },
  {
   "cell_type": "code",
   "execution_count": 7,
   "id": "2badb2de",
   "metadata": {},
   "outputs": [
    {
     "name": "stdout",
     "output_type": "stream",
     "text": [
      "<class 'pandas.core.frame.DataFrame'>\n",
      "RangeIndex: 39337 entries, 0 to 39336\n",
      "Data columns (total 9 columns):\n",
      " #   Column            Non-Null Count  Dtype  \n",
      "---  ------            --------------  -----  \n",
      " 0   Brand             39337 non-null  object \n",
      " 1   Model             39337 non-null  object \n",
      " 2   Price             38994 non-null  float64\n",
      " 3   Type              39337 non-null  object \n",
      " 4   EngineType        39337 non-null  object \n",
      " 5   TransmissionType  39337 non-null  object \n",
      " 6   ManufactureDate   39337 non-null  object \n",
      " 7   HorsePower        39337 non-null  int64  \n",
      " 8   Color             39337 non-null  object \n",
      "dtypes: float64(1), int64(1), object(7)\n",
      "memory usage: 2.7+ MB\n"
     ]
    }
   ],
   "source": [
    "cars_data.info()"
   ]
  },
  {
   "cell_type": "code",
   "execution_count": 11,
   "id": "09348ca0",
   "metadata": {},
   "outputs": [
    {
     "data": {
      "text/plain": [
       "(39337, 9)"
      ]
     },
     "execution_count": 11,
     "metadata": {},
     "output_type": "execute_result"
    }
   ],
   "source": [
    "cars_data.shape"
   ]
  },
  {
   "cell_type": "code",
   "execution_count": 12,
   "id": "778f9ef5",
   "metadata": {},
   "outputs": [
    {
     "data": {
      "text/html": [
       "<div>\n",
       "<style scoped>\n",
       "    .dataframe tbody tr th:only-of-type {\n",
       "        vertical-align: middle;\n",
       "    }\n",
       "\n",
       "    .dataframe tbody tr th {\n",
       "        vertical-align: top;\n",
       "    }\n",
       "\n",
       "    .dataframe thead th {\n",
       "        text-align: right;\n",
       "    }\n",
       "</style>\n",
       "<table border=\"1\" class=\"dataframe\">\n",
       "  <thead>\n",
       "    <tr style=\"text-align: right;\">\n",
       "      <th></th>\n",
       "      <th>Price</th>\n",
       "      <th>HorsePower</th>\n",
       "    </tr>\n",
       "  </thead>\n",
       "  <tbody>\n",
       "    <tr>\n",
       "      <th>count</th>\n",
       "      <td>3.899400e+04</td>\n",
       "      <td>39337.000000</td>\n",
       "    </tr>\n",
       "    <tr>\n",
       "      <th>mean</th>\n",
       "      <td>2.172317e+04</td>\n",
       "      <td>153.059918</td>\n",
       "    </tr>\n",
       "    <tr>\n",
       "      <th>std</th>\n",
       "      <td>4.255122e+04</td>\n",
       "      <td>119.099573</td>\n",
       "    </tr>\n",
       "    <tr>\n",
       "      <th>min</th>\n",
       "      <td>1.100000e+01</td>\n",
       "      <td>0.000000</td>\n",
       "    </tr>\n",
       "    <tr>\n",
       "      <th>25%</th>\n",
       "      <td>5.700000e+03</td>\n",
       "      <td>95.000000</td>\n",
       "    </tr>\n",
       "    <tr>\n",
       "      <th>50%</th>\n",
       "      <td>1.030000e+04</td>\n",
       "      <td>131.000000</td>\n",
       "    </tr>\n",
       "    <tr>\n",
       "      <th>75%</th>\n",
       "      <td>2.099900e+04</td>\n",
       "      <td>177.000000</td>\n",
       "    </tr>\n",
       "    <tr>\n",
       "      <th>max</th>\n",
       "      <td>1.224200e+06</td>\n",
       "      <td>2400.000000</td>\n",
       "    </tr>\n",
       "  </tbody>\n",
       "</table>\n",
       "</div>"
      ],
      "text/plain": [
       "              Price    HorsePower\n",
       "count  3.899400e+04  39337.000000\n",
       "mean   2.172317e+04    153.059918\n",
       "std    4.255122e+04    119.099573\n",
       "min    1.100000e+01      0.000000\n",
       "25%    5.700000e+03     95.000000\n",
       "50%    1.030000e+04    131.000000\n",
       "75%    2.099900e+04    177.000000\n",
       "max    1.224200e+06   2400.000000"
      ]
     },
     "execution_count": 12,
     "metadata": {},
     "output_type": "execute_result"
    }
   ],
   "source": [
    "cars_data.describe()"
   ]
  },
  {
   "cell_type": "markdown",
   "id": "66345f46",
   "metadata": {},
   "source": [
    "### Data Cleaning and Preparation"
   ]
  },
  {
   "cell_type": "markdown",
   "id": "d5b91d4d",
   "metadata": {},
   "source": [
    "#### Get records whose Brand is empty and populate it"
   ]
  },
  {
   "cell_type": "code",
   "execution_count": 64,
   "id": "5d39e46e",
   "metadata": {},
   "outputs": [
    {
     "data": {
      "text/html": [
       "<div>\n",
       "<style scoped>\n",
       "    .dataframe tbody tr th:only-of-type {\n",
       "        vertical-align: middle;\n",
       "    }\n",
       "\n",
       "    .dataframe tbody tr th {\n",
       "        vertical-align: top;\n",
       "    }\n",
       "\n",
       "    .dataframe thead th {\n",
       "        text-align: right;\n",
       "    }\n",
       "</style>\n",
       "<table border=\"1\" class=\"dataframe\">\n",
       "  <thead>\n",
       "    <tr style=\"text-align: right;\">\n",
       "      <th></th>\n",
       "      <th>Brand</th>\n",
       "      <th>Model</th>\n",
       "      <th>Price</th>\n",
       "      <th>Type</th>\n",
       "      <th>EngineType</th>\n",
       "      <th>TransmissionType</th>\n",
       "      <th>ManufactureDate</th>\n",
       "      <th>HorsePower</th>\n",
       "      <th>Color</th>\n",
       "    </tr>\n",
       "  </thead>\n",
       "  <tbody>\n",
       "  </tbody>\n",
       "</table>\n",
       "</div>"
      ],
      "text/plain": [
       "Empty DataFrame\n",
       "Columns: [Brand, Model, Price, Type, EngineType, TransmissionType, ManufactureDate, HorsePower, Color]\n",
       "Index: []"
      ]
     },
     "execution_count": 64,
     "metadata": {},
     "output_type": "execute_result"
    }
   ],
   "source": [
    "cars_data[cars_data['Brand'].isna()]"
   ]
  },
  {
   "cell_type": "code",
   "execution_count": 59,
   "id": "6eeae2f2",
   "metadata": {},
   "outputs": [],
   "source": [
    "def populate_missing_feature(df, missing_feature, match_feature):\n",
    "    for index, row in df.iterrows():\n",
    "        if(row[missing_feature] == \"\"):\n",
    "            \n",
    "            missing_feature_value = df.loc[df[match_feature] == row[match_feature]].iloc[0][missing_feature]\n",
    "            df.at[index, missing_feature] = missing_feature_value"
   ]
  },
  {
   "cell_type": "code",
   "execution_count": 60,
   "id": "fe4b27cc",
   "metadata": {},
   "outputs": [],
   "source": [
    "populate_missing_feature(cars_data, \"Brand\", \"Model\")"
   ]
  },
  {
   "cell_type": "code",
   "execution_count": 76,
   "id": "0d615152",
   "metadata": {},
   "outputs": [
    {
     "name": "stdout",
     "output_type": "stream",
     "text": [
      "<class 'pandas.core.frame.DataFrame'>\n",
      "RangeIndex: 39337 entries, 0 to 39336\n",
      "Data columns (total 9 columns):\n",
      " #   Column            Non-Null Count  Dtype  \n",
      "---  ------            --------------  -----  \n",
      " 0   Brand             39337 non-null  object \n",
      " 1   Model             39337 non-null  object \n",
      " 2   Price             38994 non-null  float64\n",
      " 3   Type              39337 non-null  object \n",
      " 4   EngineType        39337 non-null  object \n",
      " 5   TransmissionType  39337 non-null  object \n",
      " 6   ManufactureDate   39337 non-null  object \n",
      " 7   HorsePower        39337 non-null  int64  \n",
      " 8   Color             39337 non-null  object \n",
      "dtypes: float64(1), int64(1), object(7)\n",
      "memory usage: 2.7+ MB\n"
     ]
    }
   ],
   "source": [
    "cars_data.info()"
   ]
  },
  {
   "cell_type": "markdown",
   "id": "10afb4a3",
   "metadata": {},
   "source": [
    "Drop the records where the target (Price) value is NaN."
   ]
  },
  {
   "cell_type": "code",
   "execution_count": 86,
   "id": "7846fc7b",
   "metadata": {},
   "outputs": [],
   "source": [
    "cars_data = cars_data[cars_data['Price'].isna() == False]"
   ]
  },
  {
   "cell_type": "code",
   "execution_count": 95,
   "id": "6e0e81da",
   "metadata": {},
   "outputs": [
    {
     "data": {
      "image/png": "[encoded data removed]",
      "text/plain": [
       "<Figure size 1000x600 with 1 Axes>"
      ]
     },
     "metadata": {},
     "output_type": "display_data"
    }
   ],
   "source": [
    "plt.figure(figsize=(10, 6))  # Adjust the figure size as needed\n",
    "\n",
    "num_bins = 20\n",
    "price_range = (0, 300000)  # Set the range of prices on the x-axis\n",
    "\n",
    "plt.hist(cars_data['Price'], bins=num_bins, range=price_range, edgecolor='black')\n",
    "\n",
    "plt.xlabel('Car Price')\n",
    "plt.ylabel('Frequency')\n",
    "plt.title('Histogram of Car Prices')\n",
    "plt.grid(True, linestyle='--', alpha=0.6)\n",
    "\n",
    "plt.show()"
   ]
  },
  {
   "cell_type": "code",
   "execution_count": null,
   "id": "94cac272",
   "metadata": {},
   "outputs": [],
   "source": []
  }
 ],
 "metadata": {
  "kernelspec": {
   "display_name": "Python 3 (ipykernel)",
   "language": "python",
   "name": "python3"
  },
  "language_info": {
   "codemirror_mode": {
    "name": "ipython",
    "version": 3
   },
   "file_extension": ".py",
   "mimetype": "text/x-python",
   "name": "python",
   "nbconvert_exporter": "python",
   "pygments_lexer": "ipython3",
   "version": "3.9.13"
  }
 },
 "nbformat": 4,
 "nbformat_minor": 5
}
