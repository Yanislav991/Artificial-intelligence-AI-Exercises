{
 "cells": [
  {
   "cell_type": "markdown",
   "id": "f5a70619",
   "metadata": {},
   "source": [
    "# Galois field"
   ]
  },
  {
   "cell_type": "markdown",
   "id": "925a09fb",
   "metadata": {},
   "source": [
    "### What is a field?"
   ]
  },
  {
   "cell_type": "markdown",
   "id": "8ec8a250",
   "metadata": {},
   "source": [
    "In mathematics, a field is a set of elements on which two operations, usually denoted as addition and multiplication, are defined and satisfy certain properties. The properties that a set must satisfy to be a field are known as the field axioms. These axioms can be stated as follows:\n",
    "\n",
    "1. Closure under addition and multiplication: For any two elements a and b in the field, their sum a + b and their product a * b are also in the field.\n",
    "1. Associativity of addition and multiplication: For any three elements a, b, and c in the field:\n",
    "\n",
    "    $(a + b) + c = a + (b + c)$\n",
    "    \n",
    "    $(a * b) * c = a * (b * c) \\\\ $\n",
    "    \n",
    "1. Commutativity of addition and multiplication: For any two elements a and b in the field: \n",
    "\n",
    "    $a + b = b + a$\n",
    "    \n",
    "    $a * b = b * a \\\\ $\n",
    "    \n",
    "1. Existence of additive and multiplicative identity elements: There exist two distinct elements 0 and 1 in the field such that for any element a in the field:\n",
    "\n",
    "    $a + 0 = a$\n",
    "    \n",
    "    $a * 1 = a \\\\ $\n",
    "    \n",
    "1. Existence of additive and multiplicative inverses: For any non-zero element a in the field, there exists a unique element $-a$ (additive inverse) such that $a + (-a) = 0$ , and there exists a unique element $a^-1$ (multiplicative inverse) such that $a * a^-1 = 1$\n",
    "\n",
    "1. Distributivity of multiplication over addition: For any three elements a, b, and c in the field:\n",
    "\n",
    "    $a * (b + c) = (a * b) + (a * c)\\\\ $\n",
    "    \n",
    "These properties are essential to ensure that the field behaves like a consistent mathematical structure, allowing for the manipulation of its elements in a systematic and well-defined way.\n",
    "\n",
    "In simpler terms, a field is a set of numbers on which you can perform addition, subtraction, multiplication, and division, and the results of these operations also belong to the same set of numbers.\n",
    "\n",
    "Examples of fields include the set of real numbers, the set of complex numbers, and the set of rational numbers.\n",
    "\n",
    "Fields have many applications in mathematics and computer science, including algebraic geometry, coding theory, cryptography, and computer graphics. In particular, Galois fields (also known as finite fields) are used in various cryptographic applications.\n",
    "\n"
   ]
  },
  {
   "cell_type": "markdown",
   "id": "75be62f1",
   "metadata": {},
   "source": [
    "### What is GF(2)? Why is it an algebraic field?"
   ]
  },
  {
   "cell_type": "markdown",
   "id": "792afa62",
   "metadata": {},
   "source": [
    "GF(2) stands for Galois Field of order 2, which is also commonly referred to as the binary field. It is a finite field with two elements, 0 and 1, and its addition and multiplication operations are defined as follows:\n",
    "\n",
    "1. Addition :\n",
    "    \n",
    "    $ 0 + 0 = 0  \\\\\\\\  0 + 1 = 1 + 0 = 1 \\\\\\\\  1 + 1 = 0 \\\\ $\n",
    "    \n",
    "1. Multiplication :\n",
    "\n",
    "    $\\\\ 0 * 0 = 0 \\\\\\\\ 0 * 1 = 1 * 0 = 0 \\\\\\\\ 1 * 1 = 1 $\n",
    "    \n",
    "The binary field GF(2) is an algebraic field because it satisfies all the axioms of a field."
   ]
  },
  {
   "cell_type": "markdown",
   "id": "e500ce5b",
   "metadata": {},
   "source": [
    "### What is perfect secrecy? How does it relate to the participants in the conversation, and to the outside eavesdropper?"
   ]
  },
  {
   "cell_type": "markdown",
   "id": "e4deb178",
   "metadata": {},
   "source": [
    "Perfect secrecy is a way of making sure that nobody can read secret messages even if they have all the computers in the world. It's like a secret code that only the people who know it can understand. \n",
    "\n",
    "Two people, Alice and Bob, might use a secret code to talk to each other so that nobody else can understand what they're saying. They might use a code that's so good that nobody can figure out what they're saying. This is called perfect secrecy. One way to achieve perfect secrecy is to use something called a one-time pad, which is like a secret key that's only used once. If Alice and Bob use the one-time pad to encrypt their messages, then nobody else can read what they're saying. "
   ]
  },
  {
   "cell_type": "markdown",
   "id": "d205d189",
   "metadata": {},
   "source": [
    "### What is symmetrical encryption?"
   ]
  },
  {
   "cell_type": "markdown",
   "id": "72c2fffd",
   "metadata": {},
   "source": [
    "Symmetric encryption is a type of encryption where the same secret key is used to encrypt and decrypt the message. It is like a secret code that only you and the person you want to communicate with know.\n",
    "\n",
    "In symmetric encryption, you start by choosing a secret key. You use this key to encrypt your message, by performing some mathematical operation on the message and the key. The resulting encrypted message can only be decrypted back to the original message using the same secret key.\n",
    "\n",
    "Symmetric encryption is fast and efficient, and is commonly used in many applications where secure communication is needed. However, the challenge with symmetric encryption is how to securely share the secret key with the intended recipient, without it falling into the hands of an attacker."
   ]
  },
  {
   "cell_type": "code",
   "execution_count": null,
   "id": "baa69455",
   "metadata": {},
   "outputs": [],
   "source": []
  }
 ],
 "metadata": {
  "kernelspec": {
   "display_name": "Python 3 (ipykernel)",
   "language": "python",
   "name": "python3"
  },
  "language_info": {
   "codemirror_mode": {
    "name": "ipython",
    "version": 3
   },
   "file_extension": ".py",
   "mimetype": "text/x-python",
   "name": "python",
   "nbconvert_exporter": "python",
   "pygments_lexer": "ipython3",
   "version": "3.9.13"
  }
 },
 "nbformat": 4,
 "nbformat_minor": 5
}
