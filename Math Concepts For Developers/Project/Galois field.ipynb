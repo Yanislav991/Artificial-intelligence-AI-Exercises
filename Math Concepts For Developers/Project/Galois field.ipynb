{
 "cells": [
  {
   "cell_type": "markdown",
   "id": "f5a70619",
   "metadata": {},
   "source": [
    "# Galois field"
   ]
  },
  {
   "cell_type": "code",
   "execution_count": null,
   "id": "f883d5cb",
   "metadata": {},
   "outputs": [],
   "source": [
    "import random\n",
    "from Crypto.Cipher import AES\n",
    "from Crypto.Util.Padding import pad, unpad"
   ]
  },
  {
   "cell_type": "markdown",
   "id": "925a09fb",
   "metadata": {},
   "source": [
    "### What is a field?"
   ]
  },
  {
   "cell_type": "markdown",
   "id": "8ec8a250",
   "metadata": {},
   "source": [
    "In mathematics, a field is a set of elements on which two operations, usually denoted as addition and multiplication, are defined and satisfy certain properties. The properties that a set must satisfy to be a field are known as the field axioms. These axioms can be stated as follows:\n",
    "\n",
    "1. Closure under addition and multiplication: For any two elements a and b in the field, their sum a + b and their product a * b are also in the field.\n",
    "1. Associativity of addition and multiplication: For any three elements a, b, and c in the field:\n",
    "\n",
    "    $(a + b) + c = a + (b + c)$\n",
    "    \n",
    "    $(a * b) * c = a * (b * c) \\\\ $\n",
    "    \n",
    "1. Commutativity of addition and multiplication: For any two elements a and b in the field: \n",
    "\n",
    "    $a + b = b + a$\n",
    "    \n",
    "    $a * b = b * a \\\\ $\n",
    "    \n",
    "1. Existence of additive and multiplicative identity elements: There exist two distinct elements 0 and 1 in the field such that for any element a in the field:\n",
    "\n",
    "    $a + 0 = a$\n",
    "    \n",
    "    $a * 1 = a \\\\ $\n",
    "    \n",
    "1. Existence of additive and multiplicative inverses: For any non-zero element a in the field, there exists a unique element $-a$ (additive inverse) such that $a + (-a) = 0$ , and there exists a unique element $a^-1$ (multiplicative inverse) such that $a * a^-1 = 1$\n",
    "\n",
    "1. Distributivity of multiplication over addition: For any three elements a, b, and c in the field:\n",
    "\n",
    "    $a * (b + c) = (a * b) + (a * c)\\\\ $\n",
    "    \n",
    "These properties are essential to ensure that the field behaves like a consistent mathematical structure, allowing for the manipulation of its elements in a systematic and well-defined way.\n",
    "\n",
    "In simpler terms, a field is a set of numbers on which you can perform addition, subtraction, multiplication, and division, and the results of these operations also belong to the same set of numbers.\n",
    "\n",
    "Examples of fields include the set of real numbers, the set of complex numbers, and the set of rational numbers.\n",
    "\n",
    "Fields have many applications in mathematics and computer science, including algebraic geometry, coding theory, cryptography, and computer graphics. In particular, Galois fields (also known as finite fields) are used in various cryptographic applications.\n",
    "\n"
   ]
  },
  {
   "cell_type": "markdown",
   "id": "75be62f1",
   "metadata": {},
   "source": [
    "### What is GF(2)? Why is it an algebraic field?"
   ]
  },
  {
   "cell_type": "markdown",
   "id": "792afa62",
   "metadata": {},
   "source": [
    "GF(2) stands for Galois Field of order 2, which is also commonly referred to as the binary field. It is a finite field with two elements, 0 and 1, and its addition and multiplication operations are defined as follows:\n",
    "\n",
    "1. Addition :\n",
    "    \n",
    "    $ 0 + 0 = 0  \\\\\\\\  0 + 1 = 1 + 0 = 1 \\\\\\\\  1 + 1 = 0 \\\\ $\n",
    "    \n",
    "1. Multiplication :\n",
    "\n",
    "    $\\\\ 0 * 0 = 0 \\\\\\\\ 0 * 1 = 1 * 0 = 0 \\\\\\\\ 1 * 1 = 1 $\n",
    "    \n",
    "The binary field GF(2) is an algebraic field because it satisfies all the axioms of a field."
   ]
  },
  {
   "cell_type": "markdown",
   "id": "e500ce5b",
   "metadata": {},
   "source": [
    "### What is perfect secrecy? How does it relate to the participants in the conversation, and to the outside eavesdropper?"
   ]
  },
  {
   "cell_type": "markdown",
   "id": "e4deb178",
   "metadata": {},
   "source": [
    "Perfect secrecy is a way of making sure that nobody can read secret messages even if they have all the computers in the world. It's like a secret code that only the people who know it can understand. \n",
    "\n",
    "Two people, Alice and Bob, might use a secret code to talk to each other so that nobody else can understand what they're saying. They might use a code that's so good that nobody can figure out what they're saying. This is called perfect secrecy. One way to achieve perfect secrecy is to use something called a one-time pad, which is like a secret key that's only used once. If Alice and Bob use the one-time pad to encrypt their messages, then nobody else can read what they're saying. "
   ]
  },
  {
   "cell_type": "markdown",
   "id": "d205d189",
   "metadata": {},
   "source": [
    "### What is symmetrical encryption?"
   ]
  },
  {
   "cell_type": "markdown",
   "id": "72c2fffd",
   "metadata": {},
   "source": [
    "Symmetric encryption is a type of encryption where the same secret key is used to encrypt and decrypt the message. It is like a secret code that only you and the person you want to communicate with know.\n",
    "\n",
    "In symmetric encryption, you start by choosing a secret key. You use this key to encrypt your message, by performing some mathematical operation on the message and the key. The resulting encrypted message can only be decrypted back to the original message using the same secret key.\n",
    "\n",
    "Symmetric encryption is fast and efficient, and is commonly used in many applications where secure communication is needed. However, the challenge with symmetric encryption is how to securely share the secret key with the intended recipient, without it falling into the hands of an attacker."
   ]
  },
  {
   "cell_type": "markdown",
   "id": "322ca4cf",
   "metadata": {},
   "source": [
    "### How to encrypt one-bit messages?"
   ]
  },
  {
   "cell_type": "markdown",
   "id": "371247c8",
   "metadata": {},
   "source": [
    "XOR (exclusive OR) is a binary operation that takes two bits as input and outputs a single bit, where the output bit is 1 if and only if exactly one of the input bits is 1. It is denoted by the symbol ⊕. The Galois field (also known as a finite field) is a mathematical structure that consists of a finite set of elements and two operations: addition and multiplication.\n",
    "\n",
    "The Galois field GF(2) is a particular type of Galois field with two elements: 0 and 1. Addition in GF(2) is equivalent to XOR: adding 0 to any element gives the same element, and adding 1 to an element switches its value\n",
    "\n",
    "$$ 0 + 1 = 1 $$ and $$ 1 + 1 = 0 $$\n",
    "\n",
    "Multiplication in GF(2) is equivalent to AND: multiplying any element by 0 gives 0, and multiplying any element by 1 gives the same element.\n",
    "\n",
    "The fact that addition in GF(2) is equivalent to XOR is useful in cryptography, particularly in the design of stream ciphers and one-time pads. For example, if we have a stream of bits that we want to encrypt using a one-time pad, we can XOR each bit in the stream with a corresponding key bit generated from the same random source. This is a simple and secure encryption technique, as long as the key is truly random and used only once.\n",
    "\n",
    "In general, the use of Galois fields in cryptography provides a way to perform mathematical operations on finite sets of elements (such as bits or bytes), which is necessary for many cryptographic algorithms. By using the arithmetic operations of addition and multiplication in a Galois field, we can design efficient and secure encryption and decryption algorithms that are resistant to attacks by eavesdroppers and other adversaries.\n"
   ]
  },
  {
   "cell_type": "markdown",
   "id": "85fc24ab",
   "metadata": {},
   "source": [
    "#### Example\n",
    "Here's an example that allows the user to input a one-bit message (0 or 1) and encrypts it using a one-time pad:"
   ]
  },
  {
   "cell_type": "code",
   "execution_count": null,
   "id": "1bf4c29e",
   "metadata": {},
   "outputs": [],
   "source": [
    "def encrypt_bit(message=\"1\"):\n",
    "    key = random.randint(0, 1)  # generate a random one-bit key\n",
    "    encrypted = message ^ key  # XOR the message and the key\n",
    "    return encrypted, key\n",
    "\n",
    "def decrypt_bit(encrypted, key):\n",
    "    message = encrypted ^ key  # XOR the encrypted message and the key\n",
    "    return message\n",
    "\n",
    "# Example usage:\n",
    "message = 1\n",
    "encrypted, key = encrypt_bit()\n",
    "print(\"Message:\", message)\n",
    "print(\"Key:\", key)\n",
    "print(\"Encrypted message:\", encrypted)\n",
    "decrypted = decrypt_bit(encrypted, key)\n",
    "print(\"Decrypted message:\", decrypted)"
   ]
  },
  {
   "cell_type": "markdown",
   "id": "00010bfb",
   "metadata": {},
   "source": [
    "In this example, we first define two functions: `encrypt_bit` and `decrypt_bit`. The `encrypt_bit` function generates a random one-bit key, XORs it with the input message, and returns both the encrypted message and the key. The `decrypt_bit` function takes an encrypted message and its corresponding key, XORs them, and returns the original message.\n",
    "\n",
    "In the example usage, we use a one-bit message \n",
    "```\n",
    "message = 1\n",
    "encrypted, key = encrypt_bit()\n",
    "```\n",
    "encrypt it using the `encrypt_bit` function, and print out the message, key, and encrypted message. We then decrypt the encrypted message using the `decrypt_bit` function and print out the result."
   ]
  },
  {
   "cell_type": "markdown",
   "id": "5a4eade1",
   "metadata": {},
   "source": [
    "### How to extend the one-bit encryption system to many bits?"
   ]
  },
  {
   "cell_type": "markdown",
   "id": "c516c61c",
   "metadata": {},
   "source": [
    "To extend the one-bit encryption system to many bits, we can use the same one-time pad technique, but generate a key sequence that is as long as the message sequence. The key sequence should be generated from a truly random source and kept secret, as it is used to XOR each bit of the message sequence.\n",
    "\n",
    "#### Example\n",
    "Here's an example implementation of a one-time pad encryption and decryption system that works for an arbitrary-length message:"
   ]
  },
  {
   "cell_type": "code",
   "execution_count": null,
   "id": "38eb6cc4",
   "metadata": {},
   "outputs": [],
   "source": [
    "def generate_key(length):\n",
    "    return [random.randint(0, 1) for _ in range(length)]\n",
    "\n",
    "def encrypt(message, key):\n",
    "    encrypted = [m ^ k for m, k in zip(message, key)]\n",
    "    return encrypted\n",
    "\n",
    "def decrypt(encrypted, key):\n",
    "    decrypted = [e ^ k for e, k in zip(encrypted, key)]\n",
    "    return decrypted\n",
    "\n",
    "# Example usage:\n",
    "message = [1, 0, 1, 1, 0, 1, 0, 0]  # an eight-bit message\n",
    "key = generate_key(len(message))\n",
    "encrypted = encrypt(message, key)\n",
    "print(\"Message:\", message)\n",
    "print(\"Key:\", key)\n",
    "print(\"Encrypted message:\", encrypted)\n",
    "decrypted = decrypt(encrypted, key)\n",
    "print(\"Decrypted message:\", decrypted)"
   ]
  },
  {
   "cell_type": "markdown",
   "id": "82f033aa",
   "metadata": {},
   "source": [
    "In this implementation, we first define three functions: `generate_key`, `encrypt`, and `decrypt`. The `generate_key` function takes an integer length and returns a list of length random bits. The encrypt function takes a message sequence (i.e., a list of bits) and a key sequence (also a list of bits), XORs each bit in the message sequence with the corresponding bit in the key sequence, and returns the encrypted message sequence. The decrypt function takes an encrypted message sequence and its corresponding key sequence, XORs each bit in the encrypted sequence with the corresponding bit in the key sequence, and returns the original message sequence.\n",
    "\n",
    "In the example usage, we create an eight-bit message sequence, generate a random key sequence of the same length using the generate_key function, encrypt the message sequence using the encrypt function, and print out the message, key, and encrypted message. We then decrypt the encrypted message using the decrypt function and print out the result."
   ]
  },
  {
   "cell_type": "markdown",
   "id": "96e952bf",
   "metadata": {},
   "source": [
    "#### Are there other ways? "
   ]
  },
  {
   "cell_type": "markdown",
   "id": "2a17bb61",
   "metadata": {},
   "source": [
    "Yes, there are other ways to extend the one-bit encryption system to encrypt multiple bits. One such way is to use a block cipher, which is a type of encryption algorithm that operates on fixed-length blocks of data (e.g., 64 bits, 128 bits, etc.). A block cipher typically consists of two main components: a key schedule, which generates a set of round keys from the encryption key, and a round function, which performs a sequence of substitutions and permutations on the input block using the round keys.\n",
    "\n",
    "One example of a block cipher that uses Galois Field arithmetic is the Advanced Encryption Standard (AES), which is a widely-used encryption algorithm that supports key sizes of 128, 192, or 256 bits. AES uses a block size of 128 bits and operates on a Galois Field of order 2^8, denoted GF(2^8), using a specific irreducible polynomial as the modulus.\n",
    "\n",
    "AES uses a key schedule to generate a set of round keys from the encryption key, which is then used by the round function to encrypt each block of data. The round function consists of several rounds, each of which applies a specific sequence of substitutions and permutations to the input block using the current round key."
   ]
  },
  {
   "cell_type": "markdown",
   "id": "6a98b304",
   "metadata": {},
   "source": [
    "#### Example\n",
    "Here's an example implementation of AES encryption and decryption using the PyCryptodome library in Python:"
   ]
  },
  {
   "cell_type": "code",
   "execution_count": null,
   "id": "21435ad3",
   "metadata": {},
   "outputs": [],
   "source": [
    "key = b'secret_key_12345'  # 16-byte encryption key\n",
    "message = b'This is a test message that will be encrypted using AES.'  # variable-length message\n",
    "\n",
    "cipher = AES.new(key, AES.MODE_ECB)  # create an AES cipher object in ECB mode\n",
    "padded_message = pad(message, AES.block_size)  # pad the message to a multiple of the block size\n",
    "encrypted = cipher.encrypt(padded_message)  # encrypt the padded message using the AES cipher\n",
    "\n",
    "decrypted = unpad(cipher.decrypt(encrypted), AES.block_size)  # decrypt the encrypted message and unpad the result\n",
    "\n",
    "print('Original message:', message)\n",
    "print('Encrypted message:', encrypted)\n",
    "print('Decrypted message:', decrypted)"
   ]
  },
  {
   "cell_type": "markdown",
   "id": "1e36dc91",
   "metadata": {},
   "source": [
    "In this implementation, we first import the necessary modules from the PyCryptodome library,\n",
    "\n",
    "```\n",
    "from Crypto.Cipher import AES\n",
    "from Crypto.Util.Padding import pad, unpad\n",
    "```\n",
    "\n",
    "and define a 16-byte encryption key and a variable-length message. We then create an AES cipher object in ECB mode using the `AES.new` function, pad the message to a multiple of the block size using the `pad` function, and encrypt the padded message using the `encrypt` method of the AES cipher object. We then decrypt the encrypted message using the `decrypt` method of the AES cipher object, unpad the result using the `unpad` function, and print out the original message, encrypted message, and decrypted message.\n",
    "\n",
    "> Note that this implementation uses [ECB mode](https://www.techtarget.com/searchsecurity/definition/Electronic-Code-Book), which is not secure for encrypting multiple blocks of data."
   ]
  },
  {
   "cell_type": "markdown",
   "id": "c470c13b",
   "metadata": {},
   "source": [
    "### Why is the system decryptable and how do the paricipants decrypt the encrypted messages? "
   ]
  },
  {
   "cell_type": "markdown",
   "id": "6ae6d0c0",
   "metadata": {},
   "source": [
    "The system is decryptable because it uses a symmetric key encryption scheme, where the same secret key is used for both encryption and decryption. This means that the sender encrypts the plaintext message using the secret key, and the receiver decrypts the ciphertext using the same secret key to recover the original plaintext message.\n",
    "\n",
    "Symmetric key encryption is based on mathematical algorithms that are designed to be reversible, meaning that the encryption process can be reversed using the same key to recover the original plaintext message. This is what makes the system decryptable.\n",
    "\n",
    "In the case of the block cipher based on Galois Field arithmetic, the encryption process involves applying a series of mathematical operations (substitution, permutation, and mixing) to the plaintext block using the encryption key. The decryption process involves applying the inverse of each operation in reverse order using the same encryption key to recover the original plaintext block.\n",
    "\n",
    "The security of symmetric key encryption schemes depends on the secrecy of the encryption key. As long as the encryption key is kept secret and is not compromised by an attacker, the system is secure and decryptable only by the intended recipient who has access to the secret key."
   ]
  },
  {
   "cell_type": "markdown",
   "id": "9e29baf0",
   "metadata": {},
   "source": [
    "#### Who is responsible for determining the secret key and how is it communicated to the participants?"
   ]
  },
  {
   "cell_type": "markdown",
   "id": "6c688010",
   "metadata": {},
   "source": [
    "The secret key in a symmetric key encryption scheme like AES is typically determined by one of the participants, usually the sender, and then shared securely with the other participant(s) who need to decrypt the message. The key must be kept secret from anyone who is not authorized to view the encrypted message.\n",
    "\n",
    "There are several methods that can be used to securely share the secret key:\n",
    "\n",
    "1. Pre-shared key: The sender and receiver share a secret key in advance through a secure channel, such as in person or through a secure messaging service. This method is suitable for a small number of participants who trust each other.\n",
    "\n",
    "1. Key exchange protocols: The sender and receiver use a secure key exchange protocol, such as Diffie-Hellman key exchange, to generate a shared secret key over an insecure channel. This method is suitable for a large number of participants who do not necessarily trust each other.\n",
    "\n",
    "##### Simulation of Diffie-Hellman Key exchange: \n",
    "    1. Bob and Alice agree on two numbers choose 2 numbers. (p,g) The numbers are public.\n",
    "    2. Each of them generate a private key\n",
    "    3. Each of them calculate a public key \n",
    "    4. Thus each of them can calcuate the secret key.\n",
    "\n",
    "###### Code\n",
    "```\n",
    "p = 5\n",
    "g = 3\n",
    "\n",
    "a = random.randint(1, p-1)\n",
    "b = random.randint(1, p-1)\n",
    "\n",
    "A = pow(g, a, p)\n",
    "B = pow(g, b, p)\n",
    "\n",
    "s1 = pow(B, a, p)\n",
    "s2 = pow(A, b, p)\n",
    "\n",
    "print(\"Shared secret key: \", s1)\n",
    "print(\"Shared secret key: \", s2)\n",
    "\n",
    "```\n",
    "\n",
    "In the above code snippet let assume the public numbers are p(5) and g(3). \n",
    "    Alice and Bob generate a random private key - a(1) | b(4)\n",
    "    Each of them calculate a public key by formula.\n",
    "```\n",
    "    key=g^(a & b) & p\n",
    "```\n",
    "Alice Key = 3^1 % 5 = 3 \n",
    "\n",
    "Bob Key = 3^4 % 5 = 1\n",
    "\n",
    "So A(3) and B(1)\n",
    "\n",
    "Alice and Bob now can calculate the secret key by using the private key. The formula is:\n",
    "```\n",
    "    (A or B)^(b or a) % p\n",
    "```\n",
    "\n",
    "Alice private key is \"a\". Alice secret key:\n",
    "```\n",
    "    B^a % p\n",
    "    1^1 % 5 = 1\n",
    "```\n",
    "Bob private key is \"b\". Bob secret key \n",
    "```\n",
    "    A^b % p\n",
    "    3^4 % 5 = 81 % 5 = 1\n",
    "```\n",
    "Both are calculating the secret by using private key.\n",
    "\n",
    "3. Key distribution center: The sender and receiver use a trusted third party, known as a key distribution center (KDC), to securely distribute the secret key. The KDC generates and distributes the key to the sender and receiver using a secure channel.\n",
    "\n",
    "Suppose we have three participants: Alice, Bob, and the KDC. Alice wants to communicate with Bob using a secret key that only they know.\n",
    "\n",
    "1. Alice sends a request to the KDC for a secret key to communicate with Bob.\n",
    "\n",
    "1. The KDC generates a new secret key for Alice and Bob to use and encrypts it using Bob's public key. The KDC then sends the encrypted key to Alice.\n",
    "\n",
    "1. Alice decrypts the key using her private key and sends the encrypted key to Bob.\n",
    "\n",
    "1. Bob decrypts the key using his private key and now both Alice and Bob share the same secret key to communicate with each other securely.\n",
    "\n",
    "In practice, a combination of these methods may be used to securely distribute the secret key.\n"
   ]
  },
  {
   "cell_type": "markdown",
   "id": "745590d0",
   "metadata": {},
   "source": [
    "### What is a one-time pad?"
   ]
  },
  {
   "cell_type": "markdown",
   "id": "d9697a7b",
   "metadata": {},
   "source": [
    "A one-time pad is a type of symmetric-key encryption that uses a random secret key, which is at least as long as the plaintext message. The key is combined with the plaintext using the XOR operation to produce the ciphertext. The key is used only once and then discarded, hence the name \"one-time\" pad.\n",
    "\n",
    "The security of the one-time pad is based on the fact that the ciphertext provides no information about the plaintext that cannot be obtained without the key. In other words, without the key, the ciphertext provides no information about the plaintext that cannot be guessed with equal probability.\n",
    "\n",
    "The one-time pad is considered unbreakable in theory, assuming the key is truly random and used only once. However, in practice, there are many challenges in generating truly random keys and securely distributing them to the intended recipients. Also, if a one-time pad is used more than once, it is no longer secure."
   ]
  },
  {
   "cell_type": "markdown",
   "id": "439295bf",
   "metadata": {},
   "source": [
    "### How does the one-time pad achieve perfect secrecy?"
   ]
  },
  {
   "cell_type": "markdown",
   "id": "deffeb81",
   "metadata": {},
   "source": [
    "The one-time pad achieves perfect secrecy by ensuring that the ciphertext provides no information about the plaintext that cannot be obtained without the key. This is achieved by making the key truly random, at least as long as the plaintext, and used only once.\n",
    "\n",
    "When the key is combined with the plaintext using the XOR operation, each bit in the key is used to encrypt a corresponding bit in the plaintext. The result is that each bit in the ciphertext is equally likely to be 0 or 1, regardless of the corresponding bit in the plaintext.\n",
    "\n",
    "This means that an attacker who intercepts the ciphertext has no way of knowing which bit in the key was used to encrypt each bit in the plaintext. Without knowledge of the key, the attacker must consider all possible keys with equal probability, making the encryption unbreakable.\n",
    "\n",
    "In other words, the perfect secrecy of the one-time pad is based on the fact that the ciphertext provides no information about the plaintext that cannot be guessed with equal probability, even if the attacker knows the encryption algorithm and has unlimited computational power."
   ]
  },
  {
   "cell_type": "markdown",
   "id": "efaf79a5",
   "metadata": {},
   "source": [
    "### What happens if we try to use a one-time pad many times?"
   ]
  },
  {
   "cell_type": "markdown",
   "id": "16a2cd64",
   "metadata": {},
   "source": [
    "If a one-time pad is used more than once, it is no longer secure.\n",
    "\n",
    "The reason is that if the same key is used to encrypt two different plaintext messages, an attacker who intercepts both ciphertexts can use a technique called XOR analysis to recover both plaintexts.\n",
    "\n",
    "XOR analysis involves XORing the two ciphertexts together to obtain a new ciphertext that reveals information about the difference between the two plaintexts. The attacker can then use statistical analysis to make educated guesses about the original plaintexts.\n",
    "\n",
    "In general, any repetition or correlation in the key used for a one-time pad compromises the security of the encryption. This is why the key must be truly random, at least as long as the plaintext, and used only once."
   ]
  },
  {
   "cell_type": "markdown",
   "id": "ba8820e7",
   "metadata": {},
   "source": [
    "#### Example"
   ]
  },
  {
   "cell_type": "code",
   "execution_count": null,
   "id": "b3e91820",
   "metadata": {},
   "outputs": [],
   "source": [
    "# Define a function to generate a random key of a specified length\n",
    "def generate_key(length):\n",
    "    return ''.join([random.choice('01') for _ in range(length)])\n",
    "\n",
    "# Define a function to encrypt a message using a key\n",
    "def encrypt(message, key):\n",
    "    return ''.join([str(int(message[i]) ^ int(key[i])) for i in range(len(message))])\n",
    "\n",
    "# Define a function to decrypt a ciphertext using a key\n",
    "def decrypt(ciphertext, key):\n",
    "    return ''.join([str(int(ciphertext[i]) ^ int(key[i])) for i in range(len(ciphertext))])\n",
    "\n",
    "# Generate two messages of length 10\n",
    "message1 = generate_key(10)\n",
    "message2 = generate_key(10)\n",
    "\n",
    "# Generate a random key of length 10\n",
    "key = generate_key(10)\n",
    "\n",
    "# Encrypt both messages using the same key\n",
    "ciphertext1 = encrypt(message1, key)\n",
    "ciphertext2 = encrypt(message2, key)\n",
    "\n",
    "# Try to recover the key using the two ciphertexts\n",
    "recovered_key = ''.join([str(int(ciphertext1[i]) ^ int(ciphertext2[i])) for i in range(len(ciphertext1))])\n",
    "\n",
    "# Print the original key and the recovered key\n",
    "print(\"Original key:\", key)\n",
    "print(\"Recovered key:\", recovered_key)"
   ]
  },
  {
   "cell_type": "markdown",
   "id": "adbf7b9b",
   "metadata": {},
   "source": [
    "###   What are some current enterprise-grade applications of encryption over GF(2)?"
   ]
  },
  {
   "cell_type": "markdown",
   "id": "422437d5",
   "metadata": {},
   "source": [
    "Galois Field (GF) 2 is widely used in many encryption algorithms and protocols, including those used in enterprise-grade applications. Some examples of enterprise-grade applications that use encryption over GF(2) include:\n",
    "\n",
    "1. Advanced Encryption Standard (AES): AES is a symmetric block cipher that uses GF(2) to perform the finite field arithmetic required for encryption and decryption. It is widely used in enterprise-grade applications, including securing sensitive data at rest and in transit.\n",
    "\n",
    "1. Elliptic Curve Cryptography (ECC): ECC is a public key cryptography algorithm that also relies on GF(2) for performing mathematical operations. It is used in enterprise-grade applications that require secure communication and data exchange, such as secure email, secure messaging, and secure payment systems.\n",
    "\n",
    "1. Secure Hash Algorithm (SHA): SHA is a family of cryptographic hash functions that use GF(2) arithmetic to generate fixed-length hash values from variable-length inputs. It is used in enterprise-grade applications to ensure data integrity and authentication, such as digital signatures and password hashing.\n",
    "\n",
    "1. Transport Layer Security (TLS): TLS is a protocol that provides secure communication over the internet. It uses a combination of symmetric and asymmetric encryption algorithms, including those based on GF(2), to provide confidentiality, integrity, and authentication for data in transit.\n",
    "\n",
    "1. Virtual Private Networks (VPNs): VPNs use encryption over GF(2) to provide secure remote access to enterprise networks and cloud resources. GF(2)-based encryption algorithms are used to encrypt the data transmitted between the remote client and the VPN server, ensuring confidentiality and data privacy."
   ]
  },
  {
   "cell_type": "code",
   "execution_count": null,
   "id": "8885c339",
   "metadata": {},
   "outputs": [],
   "source": [
    "# Define GF(2) operations\n",
    "\n",
    "def gf2_add(x, y):\n",
    "    \"\"\"\n",
    "    Compute the addition of two binary bits using GF(2) (XOR operation)\n",
    "\n",
    "    Args:\n",
    "        x (int): binary bit 0 or 1\n",
    "        y (int): binary bit 0 or 1\n",
    "\n",
    "    Returns:\n",
    "        int: binary bit 0 or 1 as the sum of x and y using GF(2)\n",
    "    \"\"\"\n",
    "    return x ^ y\n",
    "\n",
    "\n",
    "def gf2_mul(x, y):\n",
    "    \"\"\"\n",
    "    Compute the multiplication of two binary bits using GF(2) (AND operation)\n",
    "\n",
    "    Args:\n",
    "        x (int): binary bit 0 or 1\n",
    "        y (int): binary bit 0 or 1\n",
    "\n",
    "    Returns:\n",
    "        int: binary bit 0 or 1 as the product of x and y using GF(2)\n",
    "    \"\"\"\n",
    "    return x & y\n",
    "\n",
    "\n",
    "def str_to_bin(text):\n",
    "    \"\"\"\n",
    "    Convert string to binary representation\n",
    "\n",
    "    Args:\n",
    "        text (str): Input string to be converted\n",
    "\n",
    "    Returns:\n",
    "        str: Binary representation of the input string\n",
    "    \"\"\"\n",
    "    binary = \"\"\n",
    "    for c in text:\n",
    "        # Convert each character to its ASCII value and then to binary\n",
    "        binary += format(ord(c), \"08b\")\n",
    "    return binary\n",
    "\n",
    "\n",
    "def bin_to_str(binary):\n",
    "    \"\"\"\n",
    "    Convert binary representation to string\n",
    "\n",
    "    Args:\n",
    "        binary (str): Binary representation to be converted\n",
    "\n",
    "    Returns:\n",
    "        str: Converted string from binary\n",
    "    \"\"\"\n",
    "    text = \"\"\n",
    "    chunk_size = 8\n",
    "    num_chunks = len(binary) // chunk_size\n",
    "    for i in range(num_chunks):\n",
    "        # Convert each 8-bit chunk to its corresponding ASCII character\n",
    "        chunk = binary[i * chunk_size: (i + 1) * chunk_size]\n",
    "        text += chr(int(chunk, 2))\n",
    "    return text\n",
    "\n",
    "\n",
    "def encrypt(key, plaintext):\n",
    "    \"\"\"\n",
    "    Encrypt plaintext with key using GF(2)\n",
    "\n",
    "    Args:\n",
    "        key (str): Binary string to be used as key for encryption\n",
    "        plaintext (str): Binary string to be encrypted\n",
    "\n",
    "    Returns:\n",
    "        str: Encrypted binary string\n",
    "    \"\"\"\n",
    "    ciphertext = \"\"\n",
    "    for i in range(len(plaintext)):\n",
    "        key_bit = int(key[i % len(key)])\n",
    "        plaintext_bit = int(plaintext[i])\n",
    "        ciphertext_bit = gf2_add(key_bit, plaintext_bit)\n",
    "        ciphertext += str(ciphertext_bit)\n",
    "    return ciphertext\n",
    "\n",
    "\n",
    "def decrypt(key, ciphertext):\n",
    "    \"\"\"\n",
    "    Decrypt ciphertext with key using GF(2)\n",
    "\n",
    "    Args:\n",
    "        key (str): Binary string to be used as key for decryption\n",
    "        ciphertext (str): Binary string to be decrypted\n",
    "\n",
    "    Returns:\n",
    "        str: Decrypted binary string\n",
    "    \"\"\"\n",
    "    plaintext = \"\"\n",
    "    for i in range(len(ciphertext)):\n",
    "        key_bit = int(key[i % len(key)])\n",
    "        ciphertext_bit = int(ciphertext[i])\n",
    "        plaintext_bit = gf2_add(key_bit, ciphertext_bit)\n",
    "        plaintext += str(plaintext_bit)\n",
    "    return plaintext\n",
    "\n",
    "\n",
    "# Choose a key\n",
    "key = \"11011001\"\n",
    "\n",
    "# Generate a random plaintext message\n",
    "plaintext = \"Hello, world!\"\n",
    "\n",
    "# Convert plaintext to binary representation\n",
    "plaintext_binary = str_to_bin(plaintext)\n",
    "\n",
    "# Encrypt the message\n",
    "ciphertext = encrypt(key, plaintext_binary)\n",
    "\n",
    "# Decrypt the ciphertext\n",
    "decrypted_plaintext_binary = decrypt(key, ciphertext)\n",
    "\n",
    "# Convert decrypted binary representation back to string\n",
    "decrypted_plaintext = bin_to_str(decrypted_plaintext_binary)\n",
    "\n",
    "# Print the results\n",
    "print(\"Key:\", key)\n",
    "print(\"Plaintext:\", plaintext)\n",
    "print(\"Ciphertext:\", ciphertext)\n",
    "print(\"Decrypted Plaintext:\", decrypted_plaintext)\n"
   ]
  },
  {
   "cell_type": "code",
   "execution_count": null,
   "id": "14d9fdde",
   "metadata": {},
   "outputs": [],
   "source": []
  }
 ],
 "metadata": {
  "kernelspec": {
   "display_name": "Python 3 (ipykernel)",
   "language": "python",
   "name": "python3"
  },
  "language_info": {
   "codemirror_mode": {
    "name": "ipython",
    "version": 3
   },
   "file_extension": ".py",
   "mimetype": "text/x-python",
   "name": "python",
   "nbconvert_exporter": "python",
   "pygments_lexer": "ipython3",
   "version": "3.9.13"
  }
 },
 "nbformat": 4,
 "nbformat_minor": 5
}
