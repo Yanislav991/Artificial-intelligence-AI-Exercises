{
 "cells": [
  {
   "cell_type": "markdown",
   "id": "f5a70619",
   "metadata": {},
   "source": [
    "# Galois field"
   ]
  },
  {
   "cell_type": "code",
   "execution_count": 1,
   "id": "f883d5cb",
   "metadata": {},
   "outputs": [],
   "source": [
    "import random"
   ]
  },
  {
   "cell_type": "markdown",
   "id": "925a09fb",
   "metadata": {},
   "source": [
    "### What is a field?"
   ]
  },
  {
   "cell_type": "markdown",
   "id": "8ec8a250",
   "metadata": {},
   "source": [
    "In mathematics, a field is a set of elements on which two operations, usually denoted as addition and multiplication, are defined and satisfy certain properties. The properties that a set must satisfy to be a field are known as the field axioms. These axioms can be stated as follows:\n",
    "\n",
    "1. Closure under addition and multiplication: For any two elements a and b in the field, their sum a + b and their product a * b are also in the field.\n",
    "1. Associativity of addition and multiplication: For any three elements a, b, and c in the field:\n",
    "\n",
    "    $(a + b) + c = a + (b + c)$\n",
    "    \n",
    "    $(a * b) * c = a * (b * c) \\\\ $\n",
    "    \n",
    "1. Commutativity of addition and multiplication: For any two elements a and b in the field: \n",
    "\n",
    "    $a + b = b + a$\n",
    "    \n",
    "    $a * b = b * a \\\\ $\n",
    "    \n",
    "1. Existence of additive and multiplicative identity elements: There exist two distinct elements 0 and 1 in the field such that for any element a in the field:\n",
    "\n",
    "    $a + 0 = a$\n",
    "    \n",
    "    $a * 1 = a \\\\ $\n",
    "    \n",
    "1. Existence of additive and multiplicative inverses: For any non-zero element a in the field, there exists a unique element $-a$ (additive inverse) such that $a + (-a) = 0$ , and there exists a unique element $a^-1$ (multiplicative inverse) such that $a * a^-1 = 1$\n",
    "\n",
    "1. Distributivity of multiplication over addition: For any three elements a, b, and c in the field:\n",
    "\n",
    "    $a * (b + c) = (a * b) + (a * c)\\\\ $\n",
    "    \n",
    "These properties are essential to ensure that the field behaves like a consistent mathematical structure, allowing for the manipulation of its elements in a systematic and well-defined way.\n",
    "\n",
    "In simpler terms, a field is a set of numbers on which you can perform addition, subtraction, multiplication, and division, and the results of these operations also belong to the same set of numbers.\n",
    "\n",
    "Examples of fields include the set of real numbers, the set of complex numbers, and the set of rational numbers.\n",
    "\n",
    "Fields have many applications in mathematics and computer science, including algebraic geometry, coding theory, cryptography, and computer graphics. In particular, Galois fields (also known as finite fields) are used in various cryptographic applications.\n",
    "\n"
   ]
  },
  {
   "cell_type": "markdown",
   "id": "75be62f1",
   "metadata": {},
   "source": [
    "### What is GF(2)? Why is it an algebraic field?"
   ]
  },
  {
   "cell_type": "markdown",
   "id": "792afa62",
   "metadata": {},
   "source": [
    "GF(2) stands for Galois Field of order 2, which is also commonly referred to as the binary field. It is a finite field with two elements, 0 and 1, and its addition and multiplication operations are defined as follows:\n",
    "\n",
    "1. Addition :\n",
    "    \n",
    "    $ 0 + 0 = 0  \\\\\\\\  0 + 1 = 1 + 0 = 1 \\\\\\\\  1 + 1 = 0 \\\\ $\n",
    "    \n",
    "1. Multiplication :\n",
    "\n",
    "    $\\\\ 0 * 0 = 0 \\\\\\\\ 0 * 1 = 1 * 0 = 0 \\\\\\\\ 1 * 1 = 1 $\n",
    "    \n",
    "The binary field GF(2) is an algebraic field because it satisfies all the axioms of a field."
   ]
  },
  {
   "cell_type": "markdown",
   "id": "e500ce5b",
   "metadata": {},
   "source": [
    "### What is perfect secrecy? How does it relate to the participants in the conversation, and to the outside eavesdropper?"
   ]
  },
  {
   "cell_type": "markdown",
   "id": "e4deb178",
   "metadata": {},
   "source": [
    "Perfect secrecy is a way of making sure that nobody can read secret messages even if they have all the computers in the world. It's like a secret code that only the people who know it can understand. \n",
    "\n",
    "Two people, Alice and Bob, might use a secret code to talk to each other so that nobody else can understand what they're saying. They might use a code that's so good that nobody can figure out what they're saying. This is called perfect secrecy. One way to achieve perfect secrecy is to use something called a one-time pad, which is like a secret key that's only used once. If Alice and Bob use the one-time pad to encrypt their messages, then nobody else can read what they're saying. "
   ]
  },
  {
   "cell_type": "markdown",
   "id": "d205d189",
   "metadata": {},
   "source": [
    "### What is symmetrical encryption?"
   ]
  },
  {
   "cell_type": "markdown",
   "id": "72c2fffd",
   "metadata": {},
   "source": [
    "Symmetric encryption is a type of encryption where the same secret key is used to encrypt and decrypt the message. It is like a secret code that only you and the person you want to communicate with know.\n",
    "\n",
    "In symmetric encryption, you start by choosing a secret key. You use this key to encrypt your message, by performing some mathematical operation on the message and the key. The resulting encrypted message can only be decrypted back to the original message using the same secret key.\n",
    "\n",
    "Symmetric encryption is fast and efficient, and is commonly used in many applications where secure communication is needed. However, the challenge with symmetric encryption is how to securely share the secret key with the intended recipient, without it falling into the hands of an attacker."
   ]
  },
  {
   "cell_type": "markdown",
   "id": "322ca4cf",
   "metadata": {},
   "source": [
    "### How to encrypt one-bit messages?"
   ]
  },
  {
   "cell_type": "markdown",
   "id": "371247c8",
   "metadata": {},
   "source": [
    "XOR (exclusive OR) is a binary operation that takes two bits as input and outputs a single bit, where the output bit is 1 if and only if exactly one of the input bits is 1. It is denoted by the symbol ⊕. The Galois field (also known as a finite field) is a mathematical structure that consists of a finite set of elements and two operations: addition and multiplication.\n",
    "\n",
    "The Galois field GF(2) is a particular type of Galois field with two elements: 0 and 1. Addition in GF(2) is equivalent to XOR: adding 0 to any element gives the same element, and adding 1 to an element switches its value\n",
    "\n",
    "$$ 0 + 1 = 1 $$ and $$ 1 + 1 = 0 $$\n",
    "\n",
    "Multiplication in GF(2) is equivalent to AND: multiplying any element by 0 gives 0, and multiplying any element by 1 gives the same element.\n",
    "\n",
    "The fact that addition in GF(2) is equivalent to XOR is useful in cryptography, particularly in the design of stream ciphers and one-time pads. For example, if we have a stream of bits that we want to encrypt using a one-time pad, we can XOR each bit in the stream with a corresponding key bit generated from the same random source. This is a simple and secure encryption technique, as long as the key is truly random and used only once.\n",
    "\n",
    "In general, the use of Galois fields in cryptography provides a way to perform mathematical operations on finite sets of elements (such as bits or bytes), which is necessary for many cryptographic algorithms. By using the arithmetic operations of addition and multiplication in a Galois field, we can design efficient and secure encryption and decryption algorithms that are resistant to attacks by eavesdroppers and other adversaries.\n"
   ]
  },
  {
   "cell_type": "markdown",
   "id": "85fc24ab",
   "metadata": {},
   "source": [
    "#### Example\n",
    "Here's an example that allows the user to input a one-bit message (0 or 1) and encrypts it using a one-time pad:"
   ]
  },
  {
   "cell_type": "code",
   "execution_count": 11,
   "id": "1bf4c29e",
   "metadata": {},
   "outputs": [
    {
     "name": "stdout",
     "output_type": "stream",
     "text": [
      "key - 1\n",
      "message - 0\n",
      "encrypted_message - 1\n",
      "decrypted_message - 0\n"
     ]
    }
   ],
   "source": [
    "# Set secret key (must be one bit)\n",
    "key = 1\n",
    "\n",
    "# Set message (must be one bit)\n",
    "message = 0\n",
    "\n",
    "# Encrypt message using XOR operation with key\n",
    "encrypted_message = message ^ key\n",
    "\n",
    "# Decrypt message using XOR operation with key\n",
    "decrypted_message = encrypted_message ^ key\n",
    "\n",
    "print(f\"key - {key}\")\n",
    "print(f\"message - {message}\")\n",
    "print(f\"encrypted_message - {encrypted_message}\")\n",
    "print(f\"decrypted_message - {decrypted_message}\")"
   ]
  },
  {
   "cell_type": "markdown",
   "id": "5a4eade1",
   "metadata": {},
   "source": [
    "### How to extend the one-bit encryption system to many bits?"
   ]
  },
  {
   "cell_type": "markdown",
   "id": "c516c61c",
   "metadata": {},
   "source": [
    "To extend the one-bit encryption system to many bits, we can use the same one-time pad technique, but generate a key sequence that is as long as the message sequence. The key sequence should be generated from a truly random source and kept secret, as it is used to XOR each bit of the message sequence.\n",
    "\n",
    "#### Example\n",
    "Here's an example implementation of a one-time pad encryption and decryption system that works for an arbitrary-length message:"
   ]
  },
  {
   "cell_type": "code",
   "execution_count": 5,
   "id": "38eb6cc4",
   "metadata": {},
   "outputs": [
    {
     "name": "stdout",
     "output_type": "stream",
     "text": [
      "Message: [1, 0, 1, 1, 0, 1, 0, 0]\n",
      "Key:     [0, 0, 1, 0, 1, 1, 1, 0]\n",
      "Encrypted message: [1, 0, 0, 1, 1, 0, 1, 0]\n",
      "Decrypted message: [1, 0, 1, 1, 0, 1, 0, 0]\n"
     ]
    }
   ],
   "source": [
    "def generate_key(length):\n",
    "    \"\"\"\n",
    "    Generates a random key of given length.\n",
    "\n",
    "    Parameters:\n",
    "        length (int): The length of the key to be generated.\n",
    "\n",
    "    Returns:\n",
    "        list: A list of random bits representing the generated key.\n",
    "    \"\"\"\n",
    "    key = []\n",
    "    for _ in range(length):\n",
    "        bit = random.randint(0, 1)\n",
    "        key.append(bit)\n",
    "    return key\n",
    "\n",
    "def encrypt(message, key):\n",
    "    \"\"\"\n",
    "    Encrypts a message using a given key.\n",
    "\n",
    "    Parameters:\n",
    "        message (list): A list of bits representing the message to be encrypted.\n",
    "        key (list): A list of bits representing the encryption key.\n",
    "\n",
    "    Returns:\n",
    "        list: A list of bits representing the encrypted message.\n",
    "    \"\"\"\n",
    "    encrypted = []\n",
    "    for m, k in zip(message, key):\n",
    "        xor_result = m ^ k\n",
    "        encrypted.append(xor_result)\n",
    "    return encrypted\n",
    "\n",
    "def decrypt(encrypted, key):\n",
    "    \"\"\"\n",
    "    Decrypts an encrypted message using a given key.\n",
    "\n",
    "    Parameters:\n",
    "        encrypted (list): A list of bits representing the encrypted message.\n",
    "        key (list): A list of bits representing the decryption key.\n",
    "\n",
    "    Returns:\n",
    "        list: A list of bits representing the decrypted message.\n",
    "    \"\"\"\n",
    "    decrypted = []\n",
    "    for e, k in zip(encrypted, key):\n",
    "        xor_result = e ^ k\n",
    "        decrypted.append(xor_result)\n",
    "    return decrypted\n",
    "\n",
    "# Example usage:\n",
    "message = [1, 0, 1, 1, 0, 1, 0, 0]  # an eight-bit message\n",
    "key = generate_key(len(message))\n",
    "encrypted = encrypt(message, key)\n",
    "print(\"Message:\", message)\n",
    "print(\"Key:    \", key)\n",
    "print(\"Encrypted message:\", encrypted)\n",
    "decrypted = decrypt(encrypted, key)\n",
    "print(\"Decrypted message:\", decrypted)"
   ]
  },
  {
   "cell_type": "markdown",
   "id": "82f033aa",
   "metadata": {},
   "source": [
    "In this implementation, we first define three functions: `generate_key`, `encrypt`, and `decrypt`. The `generate_key` function takes an integer length and returns a list of length random bits. The encrypt function takes a message sequence (i.e., a list of bits) and a key sequence (also a list of bits), XORs each bit in the message sequence with the corresponding bit in the key sequence, and returns the encrypted message sequence. The decrypt function takes an encrypted message sequence and its corresponding key sequence, XORs each bit in the encrypted sequence with the corresponding bit in the key sequence, and returns the original message sequence.\n",
    "\n",
    "In the example usage, we create an eight-bit message sequence, generate a random key sequence of the same length using the `generate_key` function, encrypt the message sequence using the encrypt function, and print out the message, key, and encrypted message. We then decrypt the encrypted message using the decrypt function and print out the result."
   ]
  },
  {
   "cell_type": "markdown",
   "id": "c470c13b",
   "metadata": {},
   "source": [
    "### Why is the system decryptable and how do the paricipants decrypt the encrypted messages? "
   ]
  },
  {
   "cell_type": "markdown",
   "id": "6ae6d0c0",
   "metadata": {},
   "source": [
    "The system is decryptable because it uses a symmetric key encryption scheme, where the same secret key is used for both encryption and decryption. This means that the sender encrypts the plaintext message using the secret key, and the receiver decrypts the ciphertext using the same secret key to recover the original plaintext message.\n",
    "\n",
    "Symmetric key encryption is based on mathematical algorithms that are designed to be reversible, meaning that the encryption process can be reversed using the same key to recover the original plaintext message. This is what makes the system decryptable.\n",
    "\n",
    "In the case of the block cipher based on Galois Field arithmetic, the encryption process involves applying a series of mathematical operations (substitution, permutation, and mixing) to the plaintext block using the encryption key. The decryption process involves applying the inverse of each operation in reverse order using the same encryption key to recover the original plaintext block.\n",
    "\n",
    "The security of symmetric key encryption schemes depends on the secrecy of the encryption key. As long as the encryption key is kept secret and is not compromised by an attacker, the system is secure and decryptable only by the intended recipient who has access to the secret key."
   ]
  },
  {
   "cell_type": "markdown",
   "id": "9e29baf0",
   "metadata": {},
   "source": [
    "#### Who is responsible for determining the secret key and how is it communicated to the participants?"
   ]
  },
  {
   "cell_type": "markdown",
   "id": "6c688010",
   "metadata": {},
   "source": [
    "The secret key in a symmetric key encryption scheme is typically determined by one of the participants, usually the sender, and then shared securely with the other participant(s) who need to decrypt the message. The key must be kept secret from anyone who is not authorized to view the encrypted message.\n",
    "\n",
    "There are several methods that can be used to securely share the secret key:\n",
    "\n",
    "1. Pre-shared key: The sender and receiver share a secret key in advance through a secure channel, such as in person or through a secure messaging service. This method is suitable for a small number of participants who trust each other.\n",
    "\n",
    "1. Key exchange protocols: The sender and receiver use a secure key exchange protocol, such as Diffie-Hellman key exchange, to generate a shared secret key over an insecure channel. This method is suitable for a large number of participants who do not necessarily trust each other.\n",
    "\n",
    "##### Simulation of Diffie-Hellman Key exchange: \n",
    "    1. Bob and Alice agree on two numbers choose 2 numbers. (p,g) The numbers are public.\n",
    "    2. Each of them generate a private key\n",
    "    3. Each of them calculate a public key \n",
    "    4. Thus each of them can calcuate the secret key.\n",
    "\n",
    "##### Code"
   ]
  },
  {
   "cell_type": "code",
   "execution_count": 131,
   "id": "a49b34b1",
   "metadata": {},
   "outputs": [
    {
     "name": "stdout",
     "output_type": "stream",
     "text": [
      "Shared secret key:  1\n",
      "Shared secret key:  1\n"
     ]
    }
   ],
   "source": [
    "p = 5\n",
    "g = 3\n",
    "\n",
    "a = random.randint(1, p-1)\n",
    "b = random.randint(1, p-1)\n",
    "\n",
    "A = pow(g, a, p)\n",
    "B = pow(g, b, p)\n",
    "\n",
    "s1 = pow(B, a, p)\n",
    "s2 = pow(A, b, p)\n",
    "\n",
    "print(\"Shared secret key: \", s1)\n",
    "print(\"Shared secret key: \", s2)"
   ]
  },
  {
   "cell_type": "markdown",
   "id": "2a8f34b9",
   "metadata": {},
   "source": [
    "In the above code snippet let assume the public numbers are p(5) and g(3). \n",
    "    Alice and Bob generate a random private key - a(1) | b(4)\n",
    "    Each of them calculate a public key by formula.\n",
    "```\n",
    "    key=g ^ (a & b) & p\n",
    "```\n",
    "Alice Key = 3^1 % 5 = 3 \n",
    "\n",
    "Bob Key = 3^4 % 5 = 1\n",
    "\n",
    "So A(3) and B(1)\n",
    "\n",
    "Alice and Bob now can calculate the secret key by using the private key. The formula is:\n",
    "```\n",
    "    (A or B)^(b or a) % p\n",
    "```\n",
    "\n",
    "Alice private key is \"a\". Alice secret key:\n",
    "```\n",
    "    B^a % p\n",
    "    1^1 % 5 = 1\n",
    "```\n",
    "Bob private key is \"b\". Bob secret key \n",
    "```\n",
    "    A^b % p\n",
    "    3^4 % 5 = 81 % 5 = 1\n",
    "```\n",
    "Both are calculating the secret by using private key.\n",
    "\n",
    "3. Key distribution center: The sender and receiver use a trusted third party, known as a key distribution center (KDC), to securely distribute the secret key. The KDC generates and distributes the key to the sender and receiver using a secure channel.\n",
    "\n",
    "Suppose we have three participants: Alice, Bob, and the KDC. Alice wants to communicate with Bob using a secret key that only they know.\n",
    "\n",
    "1. Alice sends a request to the KDC for a secret key to communicate with Bob.\n",
    "\n",
    "1. The KDC generates a new secret key for Alice and Bob to use and encrypts it using Bob's public key. The KDC then sends the encrypted key to Alice.\n",
    "\n",
    "1. Alice decrypts the key using her private key and sends the encrypted key to Bob.\n",
    "\n",
    "1. Bob decrypts the key using his private key and now both Alice and Bob share the same secret key to communicate with each other securely.\n",
    "\n",
    "In practice, a combination of these methods may be used to securely distribute the secret key.\n"
   ]
  },
  {
   "cell_type": "markdown",
   "id": "745590d0",
   "metadata": {},
   "source": [
    "### What is a one-time pad?"
   ]
  },
  {
   "cell_type": "markdown",
   "id": "d9697a7b",
   "metadata": {},
   "source": [
    "A one-time pad is a type of symmetric-key encryption that uses a random secret key, which is at least as long as the plaintext message. The key is combined with the plaintext using the XOR operation to produce the ciphertext. The key is used only once and then discarded, hence the name \"one-time\" pad.\n",
    "\n",
    "The security of the one-time pad is based on the fact that the ciphertext provides no information about the plaintext that cannot be obtained without the key. In other words, without the key, the ciphertext provides no information about the plaintext that cannot be guessed with equal probability.\n",
    "\n",
    "The one-time pad is considered unbreakable in theory, assuming the key is truly random and used only once. However, in practice, there are many challenges in generating truly random keys and securely distributing them to the intended recipients. Also, if a one-time pad is used more than once, it is no longer secure."
   ]
  },
  {
   "cell_type": "markdown",
   "id": "439295bf",
   "metadata": {},
   "source": [
    "### How does the one-time pad achieve perfect secrecy?"
   ]
  },
  {
   "cell_type": "markdown",
   "id": "deffeb81",
   "metadata": {},
   "source": [
    "The one-time pad achieves perfect secrecy by ensuring that the ciphertext provides no information about the plaintext that cannot be obtained without the key. This is achieved by making the key truly random, at least as long as the plaintext, and used only once.\n",
    "\n",
    "When the key is combined with the plaintext using the XOR operation, each bit in the key is used to encrypt a corresponding bit in the plaintext. The result is that each bit in the ciphertext is equally likely to be 0 or 1, regardless of the corresponding bit in the plaintext.\n",
    "\n",
    "This means that an attacker who intercepts the ciphertext has no way of knowing which bit in the key was used to encrypt each bit in the plaintext. Without knowledge of the key, the attacker must consider all possible keys with equal probability, making the encryption unbreakable.\n",
    "\n",
    "In other words, the perfect secrecy of the one-time pad is based on the fact that the ciphertext provides no information about the plaintext that cannot be guessed with equal probability, even if the attacker knows the encryption algorithm and has unlimited computational power."
   ]
  },
  {
   "cell_type": "markdown",
   "id": "efaf79a5",
   "metadata": {},
   "source": [
    "### What happens if we try to use a one-time pad many times?"
   ]
  },
  {
   "cell_type": "markdown",
   "id": "16a2cd64",
   "metadata": {},
   "source": [
    "If a one-time pad is used more than once, it is no longer secure.\n",
    "\n",
    "The reason is that if the same key is used to encrypt two different plaintext messages, an attacker who intercepts both ciphertexts can use a technique called XOR analysis to recover both plaintexts.\n",
    "\n",
    "XOR analysis involves XORing the two ciphertexts together to obtain a new ciphertext that reveals information about the difference between the two plaintexts. The attacker can then use statistical analysis to make educated guesses about the original plaintexts.\n",
    "\n",
    "In general, any repetition or correlation in the key used for a one-time pad compromises the security of the encryption. This is why the key must be truly random, at least as long as the plaintext, and used only once."
   ]
  },
  {
   "cell_type": "markdown",
   "id": "ba8820e7",
   "metadata": {},
   "source": [
    "#### Example"
   ]
  },
  {
   "cell_type": "code",
   "execution_count": 8,
   "id": "b3e91820",
   "metadata": {},
   "outputs": [
    {
     "name": "stdout",
     "output_type": "stream",
     "text": [
      "Encrypted message: '\r\n",
      "\u0001E\u001d",
      "\u0018E\r",
      "\u001b\u0000C\u0014\f",
      "\u0006\u0018\u0011Y\u0016\u000b",
      "\u0011\u000b",
      "\u0015\u0000\u000e\u0001Y\u001e",
      "\u0000\u0010\u0001\u0004\u0013\u000eD\n",
      "=========================================\n",
      "Second Encrypted message: '\r",
      "\u0006R\u0016\u0011\b\n",
      "\u0017\u0017E\u0006\u001c",
      "\u0017\r",
      "\u001b\u0011\u001c",
      "\u0017E\u000e\u0017\u0016\u0007\n",
      "\u0002\u001c",
      "]\n",
      "=========================================\n",
      "Hacked messages: \n",
      "This is the first enrypted message!\n",
      "The second enrypted message.\n"
     ]
    }
   ],
   "source": [
    "def string_to_binstring(s, nbits):\n",
    "    \"\"\"\n",
    "    Converts a string to a binary string of the given number of bits per character.\n",
    "\n",
    "    Parameters:\n",
    "        s (str): The string to convert.\n",
    "        nbits (int): The number of bits per character.\n",
    "\n",
    "    Returns:\n",
    "        str: The binary string.\n",
    "    \"\"\"\n",
    "    binary_chars = []\n",
    "    for char in s:\n",
    "        # Get the ASCII code for the current character\n",
    "        ascii_code = ord(char)\n",
    "\n",
    "        # Convert the ASCII code to a binary string with the given number of bits\n",
    "        binary_code = format(ascii_code, 'b').zfill(nbits)\n",
    "\n",
    "        # Append the binary string to the list of binary characters\n",
    "        binary_chars.append(binary_code)\n",
    "\n",
    "    # Join the list of binary characters into a single binary string\n",
    "    binary_str = ''.join(binary_chars)\n",
    "\n",
    "    return binary_str\n",
    "\n",
    "\n",
    "def binstring_to_string(b, nbits):\n",
    "    \"\"\"\n",
    "    Converts a binary string of the given number of bits per character to a string.\n",
    "\n",
    "    Parameters:\n",
    "        b (str): The binary string to convert.\n",
    "        nbits (int): The number of bits per character.\n",
    "\n",
    "    Returns:\n",
    "        str: The string.\n",
    "    \"\"\"\n",
    "    binary_chars = [b[i:i+nbits] for i in range(0, len(b), nbits)]\n",
    "    chars = []\n",
    "    for binary_char in binary_chars:\n",
    "        # Convert the binary string to an integer\n",
    "        ascii_code = int(binary_char, 2)\n",
    "\n",
    "        # Convert the ASCII code to a character and append to the list of characters\n",
    "        char = chr(ascii_code)\n",
    "        chars.append(char)\n",
    "\n",
    "    # Join the list of characters into a single string\n",
    "    string = ''.join(chars)\n",
    "\n",
    "    return string\n",
    "\n",
    "def encrypt(message, key):\n",
    "    \"\"\"\n",
    "    Encrypts the given message using the given key.\n",
    "\n",
    "    Parameters:\n",
    "        message (str): The message to encrypt.\n",
    "        key (str): The key to use for encryption.\n",
    "\n",
    "    Returns:\n",
    "        str: The encrypted message.\n",
    "    \"\"\"\n",
    "    # Convert the message and key to binary strings with 16 bits per character\n",
    "    message_binary = string_to_binstring(message, nbits=16)\n",
    "    key_binary = string_to_binstring(key, nbits=16)\n",
    "\n",
    "    # Repeat the key until it's the same length as the message\n",
    "    key_repeats_needed = (len(message_binary) // len(key_binary)) + 1\n",
    "    key_repeated = (key_binary * key_repeats_needed)[:len(message_binary)]\n",
    "\n",
    "    # Perform a bitwise XOR operation between the message and the key\n",
    "    encrypted_binary = ''\n",
    "    for a, b in zip(message_binary, key_repeated):\n",
    "        a_bit = int(a)\n",
    "        b_bit = int(b)\n",
    "        result_bit = a_bit ^ b_bit\n",
    "        encrypted_binary += str(result_bit)\n",
    "\n",
    "    # Convert the encrypted binary string back to a message\n",
    "    encrypted_message = binstring_to_string(encrypted_binary, nbits=16)\n",
    "\n",
    "    return encrypted_message\n",
    "\n",
    "def decrypt(encrypted_message, key):\n",
    "    \"\"\"\n",
    "    Decrypts the given encrypted message using the given key.\n",
    "\n",
    "    Parameters:\n",
    "        encrypted_message (str): The encrypted message to decrypt.\n",
    "        key (str): The key to use for decryption.\n",
    "\n",
    "    Returns:\n",
    "        str: The decrypted message.\n",
    "    \"\"\"\n",
    "    # Convert the encrypted message and key to binary strings\n",
    "    encrypted_binary = string_to_binstring(encrypted_message, nbits=16)\n",
    "    key_binary = string_to_binstring(key, nbits=16)\n",
    "\n",
    "    # Make the encrypted message and key the same length by repeating the key\n",
    "    message_length = len(encrypted_binary)\n",
    "    key_repeats_needed = (message_length // len(key_binary)) + 1\n",
    "    key_repeated = key_binary * key_repeats_needed\n",
    "    key_repeated = key_repeated[:message_length]\n",
    "\n",
    "    # Perform a bitwise XOR operation between the encrypted message and the key\n",
    "    decrypted_binary = ''\n",
    "    for a, b in zip(encrypted_binary, key_repeated):\n",
    "        xor_result = int(a) ^ int(b)\n",
    "        decrypted_binary += str(xor_result)\n",
    "\n",
    "    # Convert the decrypted binary string back to a message\n",
    "    decrypted_message = binstring_to_string(decrypted_binary, nbits=16)\n",
    "\n",
    "    return decrypted_message\n",
    "\n",
    "message = \"This is the first enrypted message!\"\n",
    "message2 = \"The second enrypted message.\"\n",
    "key = \"secretkey\"\n",
    "\n",
    "encrypted_message = encrypt(message, key)\n",
    "encrypted_message2 = encrypt(message2, key)\n",
    "\n",
    "print(\"Encrypted message:\", encrypted_message)\n",
    "print(\"=========================================\")\n",
    "print(\"Second Encrypted message:\", encrypted_message2)\n",
    "print(\"=========================================\")\n",
    "\n",
    "# XOR Two messages with each other and use the result as key.\n",
    "print(\"Hacked messages: \")\n",
    "print(decrypt(encrypt(message, message2), message2))\n",
    "print(decrypt(encrypt(message2, message), message))"
   ]
  },
  {
   "cell_type": "markdown",
   "id": "adbf7b9b",
   "metadata": {},
   "source": [
    "###   What are some current enterprise-grade applications of encryption over GF(2)?"
   ]
  },
  {
   "cell_type": "markdown",
   "id": "422437d5",
   "metadata": {},
   "source": [
    "Galois Field (GF) 2 is widely used in many encryption algorithms and protocols, including those used in enterprise-grade applications. Some examples of enterprise-grade applications that use encryption over GF(2) include:\n",
    "\n",
    "1. Advanced Encryption Standard (AES): AES is a symmetric block cipher that uses GF(2) to perform the finite field arithmetic required for encryption and decryption. It is widely used in enterprise-grade applications, including securing sensitive data at rest and in transit.\n",
    "\n",
    "1. Elliptic Curve Cryptography (ECC): ECC is a public key cryptography algorithm that also relies on GF(2) for performing mathematical operations. It is used in enterprise-grade applications that require secure communication and data exchange, such as secure email, secure messaging, and secure payment systems.\n",
    "\n",
    "1. Secure Hash Algorithm (SHA): SHA is a family of cryptographic hash functions that use GF(2) arithmetic to generate fixed-length hash values from variable-length inputs. It is used in enterprise-grade applications to ensure data integrity and authentication, such as digital signatures and password hashing.\n",
    "\n",
    "1. Transport Layer Security (TLS): TLS is a protocol that provides secure communication over the internet. It uses a combination of symmetric and asymmetric encryption algorithms, including those based on GF(2), to provide confidentiality, integrity, and authentication for data in transit.\n",
    "\n",
    "1. Virtual Private Networks (VPNs): VPNs use encryption over GF(2) to provide secure remote access to enterprise networks and cloud resources. GF(2)-based encryption algorithms are used to encrypt the data transmitted between the remote client and the VPN server, ensuring confidentiality and data privacy."
   ]
  },
  {
   "cell_type": "markdown",
   "id": "96bf6bfb",
   "metadata": {},
   "source": [
    "### Implement a cryptosystem based on GF(2). "
   ]
  },
  {
   "cell_type": "code",
   "execution_count": 10,
   "id": "8885c339",
   "metadata": {},
   "outputs": [
    {
     "name": "stdout",
     "output_type": "stream",
     "text": [
      "Key: 11011001\n",
      "Plaintext: Hello, world!\n",
      "Ciphertext: 10010001101111001011010110110101101101101111010111111001101011101011011010101011101101011011110111111000\n",
      "Decrypted Plaintext: Hello, world!\n"
     ]
    }
   ],
   "source": [
    "# Define GF(2) operations\n",
    "\n",
    "def gf2_add(x, y):\n",
    "    \"\"\"\n",
    "    Compute the addition of two binary bits using GF(2) (XOR operation)\n",
    "\n",
    "    Args:\n",
    "        x (int): binary bit 0 or 1\n",
    "        y (int): binary bit 0 or 1\n",
    "\n",
    "    Returns:\n",
    "        int: binary bit 0 or 1 as the sum of x and y using GF(2)\n",
    "    \"\"\"\n",
    "    return x ^ y\n",
    "\n",
    "def gf2_mul(x, y):\n",
    "    \"\"\"\n",
    "    Compute the multiplication of two binary bits using GF(2) (AND operation)\n",
    "\n",
    "    Args:\n",
    "        x (int): binary bit 0 or 1\n",
    "        y (int): binary bit 0 or 1\n",
    "\n",
    "    Returns:\n",
    "        int: binary bit 0 or 1 as the product of x and y using GF(2)\n",
    "    \"\"\"\n",
    "    return x & y\n",
    "\n",
    "def str_to_bin(text):\n",
    "    \"\"\"\n",
    "    Convert string to binary representation\n",
    "\n",
    "    Args:\n",
    "        text (str): Input string to be converted\n",
    "\n",
    "    Returns:\n",
    "        str: Binary representation of the input string\n",
    "    \"\"\"\n",
    "    binary = \"\"\n",
    "    for c in text:\n",
    "        # Convert each character to its ASCII value and then to binary\n",
    "        binary += format(ord(c), \"08b\")\n",
    "    return binary\n",
    "\n",
    "def bin_to_str(binary):\n",
    "    \"\"\"\n",
    "    Convert binary representation to string\n",
    "\n",
    "    Args:\n",
    "        binary (str): Binary representation to be converted\n",
    "\n",
    "    Returns:\n",
    "        str: Converted string from binary\n",
    "    \"\"\"\n",
    "    text = \"\"\n",
    "    chunk_size = 8\n",
    "    num_chunks = len(binary) // chunk_size\n",
    "    for i in range(num_chunks):\n",
    "        # Convert each 8-bit chunk to its corresponding ASCII character\n",
    "        chunk = binary[i * chunk_size: (i + 1) * chunk_size]\n",
    "        text += chr(int(chunk, 2))\n",
    "    return text\n",
    "\n",
    "def encrypt(key, plaintext):\n",
    "    \"\"\"\n",
    "    Encrypt plaintext with key using GF(2)\n",
    "\n",
    "    Args:\n",
    "        key (str): Binary string to be used as key for encryption\n",
    "        plaintext (str): Binary string to be encrypted\n",
    "\n",
    "    Returns:\n",
    "        str: Encrypted binary string\n",
    "    \"\"\"\n",
    "    ciphertext = \"\"\n",
    "    for i in range(len(plaintext)):\n",
    "        key_bit = int(key[i % len(key)])\n",
    "        plaintext_bit = int(plaintext[i])\n",
    "        ciphertext_bit = gf2_add(key_bit, plaintext_bit)\n",
    "        ciphertext += str(ciphertext_bit)\n",
    "    return ciphertext\n",
    "\n",
    "def decrypt(key, ciphertext):\n",
    "    \"\"\"\n",
    "    Decrypt ciphertext with key using GF(2)\n",
    "\n",
    "    Args:\n",
    "        key (str): Binary string to be used as key for decryption\n",
    "        ciphertext (str): Binary string to be decrypted\n",
    "\n",
    "    Returns:\n",
    "        str: Decrypted binary string\n",
    "    \"\"\"\n",
    "    plaintext = \"\"\n",
    "    for i in range(len(ciphertext)):\n",
    "        key_bit = int(key[i % len(key)])\n",
    "        ciphertext_bit = int(ciphertext[i])\n",
    "        plaintext_bit = gf2_add(key_bit, ciphertext_bit)\n",
    "        plaintext += str(plaintext_bit)\n",
    "    return plaintext\n",
    "\n",
    "# Choose a key\n",
    "key = \"11011001\"\n",
    "\n",
    "# Generate a random plaintext message\n",
    "plaintext = \"Hello, world!\"\n",
    "\n",
    "# Convert plaintext to binary representation\n",
    "plaintext_binary = str_to_bin(plaintext)\n",
    "\n",
    "# Encrypt the message\n",
    "ciphertext = encrypt(key, plaintext_binary)\n",
    "\n",
    "# Decrypt the ciphertext\n",
    "decrypted_plaintext_binary = decrypt(key, ciphertext)\n",
    "\n",
    "# Convert decrypted binary representation back to string\n",
    "decrypted_plaintext = bin_to_str(decrypted_plaintext_binary)\n",
    "\n",
    "# Print the results\n",
    "print(\"Key:\", key)\n",
    "print(\"Plaintext:\", plaintext)\n",
    "print(\"Ciphertext:\", ciphertext)\n",
    "print(\"Decrypted Plaintext:\", decrypted_plaintext)"
   ]
  },
  {
   "cell_type": "markdown",
   "id": "e1c06f4e",
   "metadata": {},
   "source": [
    "## Sources"
   ]
  },
  {
   "cell_type": "markdown",
   "id": "771a58b8",
   "metadata": {},
   "source": [
    "1. [GeeksForGeeks](https://www.geeksforgeeks.org/galois-fields-and-its-properties/)\n",
    "1. [ScienceDirect](https://www.sciencedirect.com/topics/computer-science/perfect-secrecy)\n",
    "1. [Cryptomatic](https://www.cryptomathic.com/news-events/blog/symmetric-key-encryption-why-where-and-how-its-used-in-banking)\n",
    "1. ChatGPT - Mainly for paraphrasing the text to make it sound better and to improve spelling and word order. (I also used it for the function documentation.)\n",
    "1. "
   ]
  },
  {
   "cell_type": "code",
   "execution_count": null,
   "id": "da35d033",
   "metadata": {},
   "outputs": [],
   "source": []
  }
 ],
 "metadata": {
  "kernelspec": {
   "display_name": "Python 3 (ipykernel)",
   "language": "python",
   "name": "python3"
  },
  "language_info": {
   "codemirror_mode": {
    "name": "ipython",
    "version": 3
   },
   "file_extension": ".py",
   "mimetype": "text/x-python",
   "name": "python",
   "nbconvert_exporter": "python",
   "pygments_lexer": "ipython3",
   "version": "3.9.13"
  }
 },
 "nbformat": 4,
 "nbformat_minor": 5
}
