{
 "cells": [
  {
   "cell_type": "markdown",
   "id": "df7f5800",
   "metadata": {},
   "source": [
    "# Huffman Compression Algorithm"
   ]
  },
  {
   "attachments": {
    "image.png": {
     "image/png": "[encoded data removed]"
    }
   },
   "cell_type": "markdown",
   "id": "ae17f909",
   "metadata": {},
   "source": [
    "### What is the difference between lossless and lossy compression?\n",
    "\n",
    "#### Lossless compression\n",
    "Lossless compression is a method that reduces the size of the data without sacrificing any information.\n",
    "This means that when the file/data is uncompressed, the original is fully restored. \n",
    "\n",
    "#### Lossy compression\n",
    "A method that reduces the size of the data by sacrificing some of the information. This means that when a data is uncompressed, some of the original information may be lost or degraded. \n",
    "\n",
    "Lossy compression achieves compression by removing data that is deemed less important or perceptually irrelevant. For example, in an image, lossy compression might reduce the number of colors or remove fine details that are not noticeable to the human eye.\n",
    "\n",
    "### When can we get away with lossy compression?\n",
    "\n",
    "Lossy compression can be used in situations where some loss of data or quality is acceptable or imperceptible to the human senses. For example when we compress Images, Audio or Vidoes\n",
    "\n",
    "### What is entropy?\n",
    "In information theory, entropy is a measure of the amount of uncertainty or randomness in a set of data or information. The more random or unpredictable the data is, the higher its entropy will be. This concept is used in data compression, where high-entropy data can be compressed more effectively than low-entropy data.\n",
    "\n",
    "### How are Huffman trees constructed?\n",
    "The codes are constructed in a way that minimizes the average code length for the symbols that appear most frequently in the message.\n",
    "The steps to construct a Huffman tree are as follows:\n",
    "1. Determine the frequency of each symbol in the message.\n",
    "1. Sort the symbols in order of increasing frequency.\n",
    "1. Combine the two symbols with the lowest frequencies into a single node, assigning the sum of their frequencies as the frequency of the new node.\n",
    "1. Add the new node to the list of symbols, and remove the two original symbols from the list.\n",
    "1. Repeat steps 3 and 4 until there is only one node left in the list. This node represents the root of the Huffman tree.\n",
    "1. Traverse the tree to assign a binary code to each symbol. Starting from the root node, assign a '0' for every left branch and a '1' for every right branch until reaching the leaf node for each symbol.\n",
    "\n",
    "#### Example: \n",
    "Suppose we have a message consisting of the symbols \"A\", \"B\", \"C\", \"D\", and \"E\" with the following frequencies:\n",
    "1. A:5\n",
    "1. B:2\n",
    "1. C:1\n",
    "1. D:4\n",
    "1. E:3\n",
    "\n",
    "We start by combining \"C\" and \"B\" to create a new node with a frequency of 3. Then we combine \"E\" and the new node to create a new node with a frequency of 6. Next, we combine \"D\" and \"A\" to create a new node with a frequency of 9. Finally, we combine the two remaining nodes to create the root of the Huffman tree:\n",
    "![image.png](attachment:image.png)\n",
    "\n",
    "We can then traverse the tree to assign binary codes to each symbol:\n",
    "1. A: 0\n",
    "1. B: 110\n",
    "1. C: 111\n",
    "1. D: 10\n",
    "1. E: 01\n",
    "\n",
    "### How can we get back the uncompressed data from the Huffman tree?"
   ]
  },
  {
   "cell_type": "markdown",
   "id": "e71a0547",
   "metadata": {},
   "source": [
    "We need to traverse the tree using the encoded bitstream and decode each symbol. This is done by starting at the root of the tree and following the path down the tree based on the encoded bits. At each node, we check if we have reached a leaf node. If so, we have found a symbol and can output it. Otherwise, we continue to follow the path down the tree until we reach a leaf node."
   ]
  },
  {
   "cell_type": "markdown",
   "id": "4fa56968",
   "metadata": {},
   "source": [
    "### Implement the algorithm."
   ]
  },
  {
   "cell_type": "code",
   "execution_count": null,
   "id": "8085b8f6",
   "metadata": {},
   "outputs": [],
   "source": []
  }
 ],
 "metadata": {
  "kernelspec": {
   "display_name": "Python 3 (ipykernel)",
   "language": "python",
   "name": "python3"
  },
  "language_info": {
   "codemirror_mode": {
    "name": "ipython",
    "version": 3
   },
   "file_extension": ".py",
   "mimetype": "text/x-python",
   "name": "python",
   "nbconvert_exporter": "python",
   "pygments_lexer": "ipython3",
   "version": "3.9.13"
  }
 },
 "nbformat": 4,
 "nbformat_minor": 5
}
