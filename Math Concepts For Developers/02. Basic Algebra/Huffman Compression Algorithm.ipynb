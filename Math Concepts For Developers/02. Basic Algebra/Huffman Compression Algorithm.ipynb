{
 "cells": [
  {
   "cell_type": "markdown",
   "id": "df7f5800",
   "metadata": {},
   "source": [
    "# Huffman Compression Algorithm"
   ]
  },
  {
   "attachments": {
    "image.png": {
     "image/png": "[encoded data removed]"
    }
   },
   "cell_type": "markdown",
   "id": "ae17f909",
   "metadata": {},
   "source": [
    "### What is the difference between lossless and lossy compression?\n",
    "\n",
    "#### Lossless compression\n",
    "Lossless compression is a method that reduces the size of the data without sacrificing any information.\n",
    "This means that when the file/data is uncompressed, the original is fully restored. \n",
    "\n",
    "#### Lossy compression\n",
    "A method that reduces the size of the data by sacrificing some of the information. This means that when a data is uncompressed, some of the original information may be lost or degraded. \n",
    "\n",
    "Lossy compression achieves compression by removing data that is deemed less important or perceptually irrelevant. For example, in an image, lossy compression might reduce the number of colors or remove fine details that are not noticeable to the human eye.\n",
    "\n",
    "### When can we get away with lossy compression?\n",
    "\n",
    "Lossy compression can be used in situations where some loss of data or quality is acceptable or imperceptible to the human senses. For example when we compress Images, Audio or Vidoes\n",
    "\n",
    "### What is entropy?\n",
    "In information theory, entropy is a measure of the amount of uncertainty or randomness in a set of data or information. The more random or unpredictable the data is, the higher its entropy will be. This concept is used in data compression, where high-entropy data can be compressed more effectively than low-entropy data.\n",
    "\n",
    "### How are Huffman trees constructed?\n",
    "The codes are constructed in a way that minimizes the average code length for the symbols that appear most frequently in the message.\n",
    "The steps to construct a Huffman tree are as follows:\n",
    "1. Determine the frequency of each symbol in the message.\n",
    "1. Sort the symbols in order of increasing frequency.\n",
    "1. Combine the two symbols with the lowest frequencies into a single node, assigning the sum of their frequencies as the frequency of the new node.\n",
    "1. Add the new node to the list of symbols, and remove the two original symbols from the list.\n",
    "1. Repeat steps 3 and 4 until there is only one node left in the list. This node represents the root of the Huffman tree.\n",
    "1. Traverse the tree to assign a binary code to each symbol. Starting from the root node, assign a '0' for every left branch and a '1' for every right branch until reaching the leaf node for each symbol.\n",
    "\n",
    "#### Example: \n",
    "Suppose we have a message consisting of the symbols \"A\", \"B\", \"C\", \"D\", and \"E\" with the following frequencies:\n",
    "1. A:5\n",
    "1. B:2\n",
    "1. C:1\n",
    "1. D:4\n",
    "1. E:3\n",
    "\n",
    "We start by combining \"C\" and \"B\" to create a new node with a frequency of 3. Then we combine \"E\" and the new node to create a new node with a frequency of 6. Next, we combine \"D\" and \"A\" to create a new node with a frequency of 9. Finally, we combine the two remaining nodes to create the root of the Huffman tree:\n",
    "![image.png](attachment:image.png)\n",
    "\n",
    "We can then traverse the tree to assign binary codes to each symbol:\n",
    "1. A: 0\n",
    "1. B: 110\n",
    "1. C: 111\n",
    "1. D: 10\n",
    "1. E: 01\n",
    "\n",
    "### How can we get back the uncompressed data from the Huffman tree?"
   ]
  },
  {
   "cell_type": "markdown",
   "id": "e71a0547",
   "metadata": {},
   "source": [
    "We need to traverse the tree using the encoded bitstream and decode each symbol. This is done by starting at the root of the tree and following the path down the tree based on the encoded bits. At each node, we check if we have reached a leaf node. If so, we have found a symbol and can output it. Otherwise, we continue to follow the path down the tree until we reach a leaf node."
   ]
  },
  {
   "cell_type": "markdown",
   "id": "4fa56968",
   "metadata": {},
   "source": [
    "### Implement the algorithm."
   ]
  },
  {
   "cell_type": "code",
   "execution_count": 1,
   "id": "8085b8f6",
   "metadata": {},
   "outputs": [
    {
     "name": "stdout",
     "output_type": "stream",
     "text": [
      " Char | Huffman code \n",
      "----------------------\n",
      " 'B'  |  (1, '100')\n",
      " 'D'  |  (3, '101')\n",
      " 'A'  |   (5, '11')\n",
      " 'C'  |    (6, '0')\n",
      "Intial Size -> 120\n",
      "Tree Size -> 75\n"
     ]
    }
   ],
   "source": [
    "class Node():\n",
    "    def __init__(self, freq, char=None,  left=None, right=None):\n",
    "        self.left = left\n",
    "        self.right = right\n",
    "        self.char = char\n",
    "        self.freq = freq\n",
    "\n",
    "    def children(self):\n",
    "        return (self.left, self.right)\n",
    "\n",
    "    def __str__(self):\n",
    "        return '%s_%s' % (self.left, self.right)\n",
    "\n",
    "def create_node(t):\n",
    "    return Node(t[1], t[0])\n",
    "\n",
    "def create_huffman_tree(nodes):\n",
    "    while len(nodes) >= 1:\n",
    "        left_node = nodes.pop(0)\n",
    "        if (len(nodes) == 0):\n",
    "            return left_node\n",
    "        right_node = nodes.pop(0)\n",
    "        nodes.append(Node(left_node.freq + right_node.freq,\n",
    "                     left=left_node, right=right_node))\n",
    "        nodes = sorted(nodes, key=lambda item: item.freq)\n",
    "\n",
    "def huffman_code_tree(node, left=True, binString=''):\n",
    "    if node.char is not None:\n",
    "        return {node.char: (node.freq, binString)}\n",
    "    (l, r) = node.children()\n",
    "    d = dict()\n",
    "    d.update(huffman_code_tree(l, True, binString + '0'))\n",
    "    d.update(huffman_code_tree(r, False, binString + '1'))\n",
    "    return d\n",
    "\n",
    "def calc_tree_size(dict):\n",
    "    values = dict.values()\n",
    "    result = 0\n",
    "    for v in values:\n",
    "        result += v[0]*len(v[1])\n",
    "        result += v[0]\n",
    "    result += len(values)*8\n",
    "    return result\n",
    "\n",
    "text = 'BCAADDDCCACACAC'\n",
    "freq = {}\n",
    "\n",
    "for c in text:\n",
    "    if c in freq:\n",
    "        freq[c] += 1\n",
    "    else:\n",
    "        freq[c] = 1\n",
    "\n",
    "freq = sorted(freq.items(), key=lambda item: item[1])\n",
    "nodes = list(map(create_node, freq))\n",
    "huffman_tree = create_huffman_tree(nodes)\n",
    "\n",
    "encoded_values = huffman_code_tree(huffman_tree)\n",
    "totalSize = 0\n",
    "initial_size = len(text) * 8\n",
    "tree_size = calc_tree_size(encoded_values)\n",
    "\n",
    "print(' Char | Huffman code ')\n",
    "print('----------------------')\n",
    "for (char, frequency) in freq:\n",
    "    print(' %-4r |%12s' % (char, encoded_values[char]))\n",
    "\n",
    "print(f\"Intial Size -> {initial_size}\")\n",
    "print(f\"Tree Size -> {tree_size}\")"
   ]
  },
  {
   "cell_type": "markdown",
   "id": "b729941e",
   "metadata": {},
   "source": [
    "#### Percentage compression"
   ]
  },
  {
   "cell_type": "code",
   "execution_count": 2,
   "id": "91e8e362",
   "metadata": {},
   "outputs": [
    {
     "name": "stdout",
     "output_type": "stream",
     "text": [
      "62.5\n"
     ]
    }
   ],
   "source": [
    "print((tree_size/initial_size) * 100)"
   ]
  },
  {
   "cell_type": "markdown",
   "id": "28819eb3",
   "metadata": {},
   "source": []
  },
  {
   "cell_type": "markdown",
   "id": "616f2b55",
   "metadata": {},
   "source": [
    "Huffman's algorithm is a lossless compression algorithm that works by encoding the most frequently occurring symbols with shorter bit strings and less frequent symbols with longer bit strings. It performs well for compressing data with a high degree of redundancy, such as text files, where certain characters or character combinations appear more frequently than others. Huffman's algorithm can achieve compression ratios of up to 50% for such data.\n",
    "\n",
    "LZ77, on the other hand, is a lossless compression algorithm that works by replacing repeated occurrences of data with references to a single copy of that data existing earlier in the uncompressed data stream. It performs well for compressing data with long repeated sequences, such as images, audio, and video files. LZ77 can achieve higher compression ratios than Huffman's algorithm for such data.\n",
    "\n",
    "In general, the performance of a compression algorithm depends on the type of data being compressed. Huffman's algorithm is generally more suitable for text files, while LZ77 is more suitable for multimedia files. However, there are many other compression algorithms available that are optimized for different types of data and can achieve even higher compression ratios than Huffman's algorithm or LZ77 for specific types of data."
   ]
  },
  {
   "cell_type": "code",
   "execution_count": null,
   "id": "97d9fdcc",
   "metadata": {},
   "outputs": [],
   "source": []
  }
 ],
 "metadata": {
  "kernelspec": {
   "display_name": "Python 3 (ipykernel)",
   "language": "python",
   "name": "python3"
  },
  "language_info": {
   "codemirror_mode": {
    "name": "ipython",
    "version": 3
   },
   "file_extension": ".py",
   "mimetype": "text/x-python",
   "name": "python",
   "nbconvert_exporter": "python",
   "pygments_lexer": "ipython3",
   "version": "3.9.13"
  }
 },
 "nbformat": 4,
 "nbformat_minor": 5
}
