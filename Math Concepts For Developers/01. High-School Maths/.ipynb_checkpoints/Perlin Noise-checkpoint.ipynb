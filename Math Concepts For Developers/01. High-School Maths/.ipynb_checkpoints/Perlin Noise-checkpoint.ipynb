{
 "cells": [
  {
   "cell_type": "markdown",
   "id": "042c781e",
   "metadata": {},
   "source": [
    "# Perlin Noise\n",
    "\n",
    "The idea behind Perlin noise is to generate a series of varying random values. Then by adding them together we can create a more complex and natural-looking pattern. \n",
    "\n",
    "## How to implement \n",
    "\n",
    "### Algorithm\n",
    "\n",
    "1. Create table (256 - number of pixels)\n",
    "2. Shuffle the table\n",
    "3. Stack the table - thus we create a 2d array (matrix).\n",
    "4. Flat the table - thus we can apply our dot interpolations easily\n",
    "5. Get grid coords - they are the same as rounding the x, y coords (convert to int)\n",
    "6. Get the vector distance - (dot coords - grid coords)\n",
    "7. Apply fade function to distance coordinates (optional, thus we achieve a more smooth end result)\n",
    "8. Create gradient vector coordinates in all four corners\n",
    "9. Apply linear interpolation\n",
    "\n",
    "### Linear interpolation \n",
    "\n",
    "```python\n",
    "def lerp(a, b, x):\n",
    "    return a + x * (b - a)\n",
    "```\n",
    "\n",
    "### Fade \n",
    "\n",
    "```python\n",
    "def fade(f):\n",
    "    return 6 * f**5 - 15 * f**4 + 10 * f**3\n",
    "```\n",
    "\n",
    "### Gradient\n",
    "\n",
    "```python\n",
    "def gradient(c, x, y):\n",
    "    vectors = np.array([[0, 1], [0, -1], [1, 0], [-1, 0]])\n",
    "    gradient_co = vectors[c % 4]\n",
    "    return gradient_co[:, :, 0] * x + gradient_co[:, :, 1] * y\n",
    "```"
   ]
  },
  {
   "cell_type": "markdown",
   "id": "fe2b4009",
   "metadata": {},
   "source": [
    "## Test the algorithm"
   ]
  },
  {
   "cell_type": "code",
   "execution_count": 11,
   "id": "3e20628e",
   "metadata": {},
   "outputs": [
    {
     "data": {
      "image/png": "[encoded data removed]",
      "text/plain": [
       "<Figure size 640x480 with 1 Axes>"
      ]
     },
     "metadata": {},
     "output_type": "display_data"
    }
   ],
   "source": [
    "\n",
    "import numpy as np\n",
    "import matplotlib.pyplot as plot\n",
    "from matplotlib.colors import ListedColormap\n",
    "\n",
    "\n",
    "def perlin(x, y, seed=0):\n",
    "    np.random.seed(seed)\n",
    "    ptable = np.arange(256, dtype=int)\n",
    "\n",
    "    np.random.shuffle(ptable)\n",
    "\n",
    "    ptable = np.stack([ptable, ptable]).flatten()\n",
    "\n",
    "    xi, yi = x.astype(int), y.astype(int)\n",
    "\n",
    "    xg, yg = x - xi, y - yi\n",
    "\n",
    "    xf, yf = fade(xg), fade(yg)\n",
    "\n",
    "    n00 = gradient(ptable[ptable[xi] + yi], xg, yg)\n",
    "    n01 = gradient(ptable[ptable[xi] + yi + 1], xg, yg - 1)\n",
    "    n11 = gradient(ptable[ptable[xi + 1] + yi + 1], xg - 1, yg - 1)\n",
    "    n10 = gradient(ptable[ptable[xi + 1] + yi], xg - 1, yg)\n",
    "\n",
    "    x1 = lerp(n00, n10, xf)\n",
    "    x2 = lerp(n01, n11, xf)\n",
    "    return lerp(x1, x2, yf)\n",
    "\n",
    "\n",
    "def lerp(a, b, x):\n",
    "    return a + x * (b - a)\n",
    "\n",
    "def fade(f):\n",
    "    return 6 * f**5 - 15 * f**4 + 10 * f**3\n",
    "\n",
    "def gradient(c, x, y):\n",
    "    vectors = np.array([[0, 1], [0, -1], [1, 0], [-1, 0]])\n",
    "    gradient_co = vectors[c % 4]\n",
    "    return gradient_co[:, :, 0] * x + gradient_co[:, :, 1] * y\n",
    "\n",
    "lin_array2 = np.linspace(157,160, 500, endpoint=False)\n",
    "\n",
    "# create grid using linear 1d arrays\n",
    "x, y = np.meshgrid(lin_array2, lin_array2)\n",
    "\n",
    "\n",
    "cmap = ListedColormap(['#ffffff', \"#C6C7DA\", '#0077be', \"#F1F3F4\", \"#E3E0EC\"  ])\n",
    "\n",
    "plot.imshow(perlin(x, y, seed=2), cmap=cmap, origin='upper')\n",
    "\n",
    "plot.show()\n"
   ]
  }
 ],
 "metadata": {
  "kernelspec": {
   "display_name": "Python 3 (ipykernel)",
   "language": "python",
   "name": "python3"
  },
  "language_info": {
   "codemirror_mode": {
    "name": "ipython",
    "version": 3
   },
   "file_extension": ".py",
   "mimetype": "text/x-python",
   "name": "python",
   "nbconvert_exporter": "python",
   "pygments_lexer": "ipython3",
   "version": "3.9.13"
  }
 },
 "nbformat": 4,
 "nbformat_minor": 5
}
